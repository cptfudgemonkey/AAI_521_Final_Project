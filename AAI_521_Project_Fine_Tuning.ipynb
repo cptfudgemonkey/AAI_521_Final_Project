{
  "nbformat": 4,
  "nbformat_minor": 0,
  "metadata": {
    "colab": {
      "provenance": [],
      "machine_shape": "hm",
      "gpuType": "A100"
    },
    "kernelspec": {
      "name": "python3",
      "display_name": "Python 3"
    },
    "language_info": {
      "name": "python"
    },
    "accelerator": "GPU"
  },
  "cells": [
    {
      "cell_type": "code",
      "execution_count": 1,
      "metadata": {
        "id": "Sc73z4wGRN6W"
      },
      "outputs": [],
      "source": [
        "# !pip install torch torchvision opencv-python tqdm scikit-image matplotlib"
      ]
    },
    {
      "cell_type": "code",
      "source": [
        "import os\n",
        "import cv2\n",
        "import numpy as np\n",
        "import torch\n",
        "import torch.nn as nn\n",
        "from torch.utils.data import Dataset, DataLoader\n",
        "from torchvision import transforms\n",
        "from tqdm import tqdm\n",
        "from zipfile import ZipFile\n",
        "import shutil\n",
        "import matplotlib.pyplot as plt\n",
        "from skimage.metrics import structural_similarity as ssim_metric\n",
        "\n",
        "# Google Drive setup (Uncomment if saving models to Google Drive)\n",
        "from google.colab import drive\n",
        "\n",
        "device = torch.device('cuda' if torch.cuda.is_available() else 'cpu')"
      ],
      "metadata": {
        "id": "W0zXYQx2RTK3"
      },
      "execution_count": 11,
      "outputs": []
    },
    {
      "cell_type": "code",
      "source": [
        "# Mount Google Drive\n",
        "drive.mount('/content/drive')"
      ],
      "metadata": {
        "colab": {
          "base_uri": "https://localhost:8080/"
        },
        "id": "s5KM14mwRkga",
        "outputId": "3c4f1c91-1109-483a-809c-849cf694531d"
      },
      "execution_count": 12,
      "outputs": [
        {
          "output_type": "stream",
          "name": "stdout",
          "text": [
            "Drive already mounted at /content/drive; to attempt to forcibly remount, call drive.mount(\"/content/drive\", force_remount=True).\n"
          ]
        }
      ]
    },
    {
      "cell_type": "code",
      "source": [
        "!gdown 1JgwTV5N7Lm0MKR5gdMAXLsroNtMff-K5"
      ],
      "metadata": {
        "colab": {
          "base_uri": "https://localhost:8080/"
        },
        "id": "91jNdRbtRksa",
        "outputId": "0440874e-eea7-4cde-ee39-52359b1b446a"
      },
      "execution_count": 13,
      "outputs": [
        {
          "output_type": "stream",
          "name": "stdout",
          "text": [
            "Downloading...\n",
            "From (original): https://drive.google.com/uc?id=1JgwTV5N7Lm0MKR5gdMAXLsroNtMff-K5\n",
            "From (redirected): https://drive.google.com/uc?id=1JgwTV5N7Lm0MKR5gdMAXLsroNtMff-K5&confirm=t&uuid=a41bf043-3b04-4e4c-be3b-d4174cb18e8d\n",
            "To: /content/preprocessed_data.zip\n",
            "100% 1.26G/1.26G [00:05<00:00, 222MB/s]\n"
          ]
        }
      ]
    },
    {
      "cell_type": "code",
      "source": [
        "# Unzip the file into the /content directory\n",
        "!unzip /content/preprocessed_data.zip -d /content/preprocessed_data"
      ],
      "metadata": {
        "colab": {
          "base_uri": "https://localhost:8080/"
        },
        "id": "ge976U7HRVeL",
        "outputId": "d0328cad-748d-458e-9912-70dce0fd964d"
      },
      "execution_count": 14,
      "outputs": [
        {
          "output_type": "stream",
          "name": "stdout",
          "text": [
            "Archive:  /content/preprocessed_data.zip\n",
            "replace /content/preprocessed_data/super_resolution/val/target/5604.png? [y]es, [n]o, [A]ll, [N]one, [r]ename: "
          ]
        }
      ]
    },
    {
      "cell_type": "code",
      "source": [
        "# Define local directories for saving images and models\n",
        "local_base_dir = 'preprocessed_data'  # Directory where data is extracted\n",
        "model_save_dir_local = '/content/trained_models'  # Local directory to save trained models\n",
        "os.makedirs(model_save_dir_local, exist_ok=True)\n",
        "\n",
        "# Define Google Drive destination directory (modify as needed)\n",
        "drive_model_save_dir = '/content/drive/MyDrive/ImageEnhancement/'\n",
        "os.makedirs(drive_model_save_dir, exist_ok=True)\n",
        "\n",
        "# Define tasks\n",
        "tasks = ['denoising', 'super_resolution', 'colorization', 'inpainting']"
      ],
      "metadata": {
        "id": "4uKbsBzUSbqn"
      },
      "execution_count": 15,
      "outputs": []
    },
    {
      "cell_type": "markdown",
      "source": [
        "# Define PyTorch Dataset and DataLoader\n"
      ],
      "metadata": {
        "id": "bctHImKK70q3"
      }
    },
    {
      "cell_type": "code",
      "source": [
        "class ImageEnhancementDataset(Dataset):\n",
        "    def __init__(self, input_dir, target_dir, transform=None):\n",
        "        self.input_dir = input_dir\n",
        "        self.target_dir = target_dir\n",
        "        self.transform = transform\n",
        "        self.input_images = sorted([f for f in os.listdir(input_dir) if not f.startswith('.')])\n",
        "        self.target_images = sorted([f for f in os.listdir(target_dir) if not f.startswith('.')])\n",
        "\n",
        "    def __len__(self):\n",
        "        return len(self.input_images)\n",
        "\n",
        "    def __getitem__(self, idx):\n",
        "        # Read input and target images using OpenCV\n",
        "        input_img_path = os.path.join(self.input_dir, self.input_images[idx])\n",
        "        target_img_path = os.path.join(self.target_dir, self.target_images[idx])\n",
        "\n",
        "        input_img = cv2.imread(input_img_path)\n",
        "        input_img = cv2.cvtColor(input_img, cv2.COLOR_BGR2RGB)  # Convert BGR to RGB\n",
        "        target_img = cv2.imread(target_img_path)\n",
        "        target_img = cv2.cvtColor(target_img, cv2.COLOR_BGR2RGB)  # Convert BGR to RGB\n",
        "\n",
        "        if self.transform:\n",
        "            input_img = self.transform(input_img)\n",
        "            target_img = self.transform(target_img)\n",
        "\n",
        "        return input_img, target_img\n",
        "\n",
        "# Define Transformations\n",
        "\n",
        "transform = transforms.Compose([\n",
        "    transforms.ToPILImage(),\n",
        "    transforms.Resize((32, 32)),\n",
        "    transforms.ToTensor()\n",
        "])\n",
        "\n",
        "\n",
        "# Create DataLoaders for Each Task\n",
        "\n",
        "def create_dataloader(task, split, batch_size=16):\n",
        "    input_dir = os.path.join(local_base_dir, task, split, 'input')\n",
        "    target_dir = os.path.join(local_base_dir, task, split, 'target')\n",
        "    dataset = ImageEnhancementDataset(input_dir, target_dir, transform=transform)\n",
        "    dataloader = DataLoader(dataset, batch_size=batch_size, shuffle=True, num_workers=2)\n",
        "    return dataloader\n",
        "\n",
        "print(\"Creating DataLoaders for all tasks...\")\n",
        "dataloaders = {}\n",
        "for task in tasks:\n",
        "    dataloaders[task] = {}\n",
        "    dataloaders[task]['train'] = create_dataloader(task, 'train', batch_size=32)\n",
        "    dataloaders[task]['val'] = create_dataloader(task, 'val', batch_size=32)\n",
        "print(\"DataLoaders created successfully.\")"
      ],
      "metadata": {
        "colab": {
          "base_uri": "https://localhost:8080/"
        },
        "id": "PFH6OASE7wzI",
        "outputId": "dd88bca0-f681-4ebf-85a8-5a18cfe55516"
      },
      "execution_count": 16,
      "outputs": [
        {
          "output_type": "stream",
          "name": "stdout",
          "text": [
            "Creating DataLoaders for all tasks...\n",
            "DataLoaders created successfully.\n"
          ]
        }
      ]
    },
    {
      "cell_type": "markdown",
      "source": [
        "# Model Definition"
      ],
      "metadata": {
        "id": "yWuKkeqg781G"
      }
    },
    {
      "cell_type": "code",
      "source": [
        "# Simple U-Net architecture tailored for 32x32 images\n",
        "class SimpleUNet(nn.Module):\n",
        "    def __init__(self, in_channels=3, out_channels=3, features=[64, 128, 256]):\n",
        "        super(SimpleUNet, self).__init__()\n",
        "        self.encoder = nn.ModuleList()\n",
        "        self.decoder = nn.ModuleList()\n",
        "        self.pool = nn.MaxPool2d(kernel_size=2, stride=2)\n",
        "\n",
        "        # Encoder\n",
        "        for feature in features:\n",
        "            self.encoder.append(self.conv_block(in_channels, feature))\n",
        "            in_channels = feature\n",
        "\n",
        "        # Bottleneck\n",
        "        self.bottleneck = self.conv_block(features[-1], features[-1]*2)\n",
        "\n",
        "        # Decoder\n",
        "        reversed_features = features[::-1]\n",
        "        decoder_features = features[-1]*2  # Start with bottleneck channels\n",
        "\n",
        "        for feature in reversed_features:\n",
        "            self.decoder.append(nn.ConvTranspose2d(decoder_features, feature, kernel_size=2, stride=2))\n",
        "            self.decoder.append(self.conv_block(decoder_features, feature))\n",
        "            decoder_features = feature  # Update for next layer\n",
        "\n",
        "        # Final Convolution\n",
        "        self.final_conv = nn.Conv2d(features[0], out_channels, kernel_size=1)\n",
        "\n",
        "    def forward(self, x):\n",
        "        skip_connections = []\n",
        "\n",
        "        # Encoder\n",
        "        for layer in self.encoder:\n",
        "            x = layer(x)\n",
        "            skip_connections.append(x)\n",
        "            x = self.pool(x)\n",
        "\n",
        "        # Bottleneck\n",
        "        x = self.bottleneck(x)\n",
        "\n",
        "        # Decoder\n",
        "        skip_connections = skip_connections[::-1]\n",
        "        for idx in range(0, len(self.decoder), 2):\n",
        "            x = self.decoder[idx](x)\n",
        "            skip_connection = skip_connections[idx//2]\n",
        "            if x.shape != skip_connection.shape:\n",
        "                x = nn.functional.interpolate(x, size=skip_connection.shape[2:])\n",
        "            concat_skip = torch.cat((skip_connection, x), dim=1)\n",
        "            x = self.decoder[idx+1](concat_skip)\n",
        "\n",
        "        return self.final_conv(x)\n",
        "\n",
        "    def conv_block(self, in_channels, out_channels):\n",
        "        return nn.Sequential(\n",
        "            nn.Conv2d(in_channels, out_channels, kernel_size=3, padding=1, bias=False),\n",
        "            nn.BatchNorm2d(out_channels),\n",
        "            nn.ReLU(inplace=True),\n",
        "            nn.Conv2d(out_channels, out_channels, kernel_size=3, padding=1, bias=False),\n",
        "            nn.BatchNorm2d(out_channels),\n",
        "            nn.ReLU(inplace=True)\n",
        "        )"
      ],
      "metadata": {
        "id": "Y-dES9jm76ZB"
      },
      "execution_count": 17,
      "outputs": []
    },
    {
      "cell_type": "markdown",
      "source": [
        "# Training and Fine-Tuning"
      ],
      "metadata": {
        "id": "Hj-duB6w8MrV"
      }
    },
    {
      "cell_type": "code",
      "source": [
        "# Define the training (fine-tuning) function\n",
        "def fine_tune_model(task_name, model, train_loader, val_loader, num_epochs, save_path=None):\n",
        "    \"\"\"Fine-tune the given model on the specified task.\"\"\"\n",
        "    model = model.to(device)\n",
        "    optimizer = torch.optim.Adam(model.parameters(), lr=1e-4)\n",
        "    criterion = nn.MSELoss()\n",
        "\n",
        "    print(f\"\\nStarting fine-tuning for {task_name}...\")\n",
        "    for epoch in range(num_epochs):\n",
        "        model.train()\n",
        "        epoch_loss = 0\n",
        "        for batch in tqdm(train_loader, desc=f\"{task_name} Epoch {epoch+1}/{num_epochs}\"):\n",
        "            input_imgs, target_imgs = batch\n",
        "            input_imgs = input_imgs.to(device)\n",
        "            target_imgs = target_imgs.to(device)\n",
        "\n",
        "            optimizer.zero_grad()\n",
        "            outputs = model(input_imgs)\n",
        "            loss = criterion(outputs, target_imgs)\n",
        "            loss.backward()\n",
        "            optimizer.step()\n",
        "\n",
        "            epoch_loss += loss.item()\n",
        "\n",
        "        avg_loss = epoch_loss / len(train_loader)\n",
        "        print(f\"{task_name} Epoch [{epoch+1}/{num_epochs}], Loss: {avg_loss:.4f}\")\n",
        "\n",
        "        # Validation\n",
        "        model.eval()\n",
        "        val_loss = 0\n",
        "        with torch.no_grad():\n",
        "            for batch in val_loader:\n",
        "                input_imgs, target_imgs = batch\n",
        "                input_imgs = input_imgs.to(device)\n",
        "                target_imgs = target_imgs.to(device)\n",
        "\n",
        "                outputs = model(input_imgs)\n",
        "                loss = criterion(outputs, target_imgs)\n",
        "                val_loss += loss.item()\n",
        "\n",
        "        avg_val_loss = val_loss / len(val_loader)\n",
        "        print(f\"{task_name} Validation Loss: {avg_val_loss:.4f}\")\n",
        "\n",
        "    # Save the fine-tuned model\n",
        "    if save_path:\n",
        "        torch.save(model.state_dict(), save_path)\n",
        "        print(f\"{task_name} model saved to {save_path}\")\n"
      ],
      "metadata": {
        "id": "NQ2peWGK8CE_"
      },
      "execution_count": 9,
      "outputs": []
    },
    {
      "cell_type": "markdown",
      "source": [
        "# Fine-Tune Models for Each Task"
      ],
      "metadata": {
        "id": "41-UPBQNUFFQ"
      }
    },
    {
      "cell_type": "code",
      "source": [
        "def fine_tune_model(task_name, model, train_loader, val_loader, num_epochs, save_path_drive, save_path_local=None):\n",
        "    \"\"\"\n",
        "    Fine-tune the given model on the specified task and save it locally and to Google Drive.\n",
        "\n",
        "    Args:\n",
        "        task_name (str): Name of the task.\n",
        "        model (nn.Module): The U-Net model to fine-tune.\n",
        "        train_loader (DataLoader): DataLoader for training data.\n",
        "        val_loader (DataLoader): DataLoader for validation data.\n",
        "        num_epochs (int): Number of training epochs.\n",
        "        save_path_drive (str): Path to save the model on Google Drive.\n",
        "        save_path_local (str, optional): Path to save the model locally. Defaults to None.\n",
        "    \"\"\"\n",
        "    model = model.to(device)\n",
        "    optimizer = torch.optim.Adam(model.parameters(), lr=1e-4)\n",
        "    criterion = nn.MSELoss()\n",
        "\n",
        "    print(f\"\\nStarting fine-tuning for {task_name}...\")\n",
        "    for epoch in range(num_epochs):\n",
        "        model.train()\n",
        "        epoch_loss = 0\n",
        "        for batch in tqdm(train_loader, desc=f\"{task_name} Epoch {epoch+1}/{num_epochs}\"):\n",
        "            input_imgs, target_imgs = batch\n",
        "            input_imgs = input_imgs.to(device)\n",
        "            target_imgs = target_imgs.to(device)\n",
        "\n",
        "            optimizer.zero_grad()\n",
        "            outputs = model(input_imgs)\n",
        "            loss = criterion(outputs, target_imgs)\n",
        "            loss.backward()\n",
        "            optimizer.step()\n",
        "\n",
        "            epoch_loss += loss.item()\n",
        "\n",
        "        avg_loss = epoch_loss / len(train_loader)\n",
        "        print(f\"{task_name.capitalize()} Epoch [{epoch+1}/{num_epochs}], Loss: {avg_loss:.4f}\")\n",
        "\n",
        "        # Validation\n",
        "        model.eval()\n",
        "        val_loss = 0\n",
        "        with torch.no_grad():\n",
        "            for batch in val_loader:\n",
        "                input_imgs, target_imgs = batch\n",
        "                input_imgs = input_imgs.to(device)\n",
        "                target_imgs = target_imgs.to(device)\n",
        "\n",
        "                outputs = model(input_imgs)\n",
        "                loss = criterion(outputs, target_imgs)\n",
        "                val_loss += loss.item()\n",
        "\n",
        "        avg_val_loss = val_loss / len(val_loader)\n",
        "        print(f\"{task_name.capitalize()} Validation Loss: {avg_val_loss:.4f}\")\n",
        "\n",
        "    # Save the fine-tuned model locally\n",
        "    if save_path_local:\n",
        "        torch.save(model.state_dict(), save_path_local)\n",
        "        print(f\"{task_name.capitalize()} model saved locally to {save_path_local}\")\n",
        "\n",
        "    # Save the fine-tuned model to Google Drive\n",
        "    if save_path_drive:\n",
        "        torch.save(model.state_dict(), save_path_drive)\n",
        "        print(f\"{task_name.capitalize()} model saved to Google Drive at {save_path_drive}\")\n"
      ],
      "metadata": {
        "id": "h-RQeollT08G"
      },
      "execution_count": 18,
      "outputs": []
    },
    {
      "cell_type": "code",
      "source": [
        "print(\"Fine-Tuning Models for Each Task\")\n",
        "\n",
        "for task in tasks:\n",
        "    print(f\"\\n--- Fine-Tuning {task.capitalize()} Model ---\")\n",
        "    model = SimpleUNet().to(device)\n",
        "\n",
        "    # Define local and Drive save paths\n",
        "    save_path_local = os.path.join(model_save_dir_local, f'{task}_model.pth')\n",
        "    save_path_drive = os.path.join(drive_model_save_dir, f'{task}_model.pth')\n",
        "\n",
        "    # Fine-tune the model\n",
        "    fine_tune_model(\n",
        "        task_name=task,\n",
        "        model=model,\n",
        "        train_loader=dataloaders[task]['train'],\n",
        "        val_loader=dataloaders[task]['val'],\n",
        "        num_epochs=25,  # Adjust as needed\n",
        "        save_path_drive=save_path_drive,\n",
        "        save_path_local=save_path_local\n",
        "    )\n",
        "\n",
        "print(\"Model Fine-Tuning Completed Successfully!\")"
      ],
      "metadata": {
        "colab": {
          "base_uri": "https://localhost:8080/"
        },
        "id": "xV228gvAV-GN",
        "outputId": "84613ade-adb1-4d86-d628-37a1dd966662"
      },
      "execution_count": 19,
      "outputs": [
        {
          "output_type": "stream",
          "name": "stdout",
          "text": [
            "Fine-Tuning Models for Each Task\n",
            "\n",
            "--- Fine-Tuning Denoising Model ---\n",
            "\n",
            "Starting fine-tuning for denoising...\n"
          ]
        },
        {
          "output_type": "stream",
          "name": "stderr",
          "text": [
            "denoising Epoch 1/25: 100%|██████████| 1500/1500 [00:18<00:00, 80.08it/s]"
          ]
        },
        {
          "output_type": "stream",
          "name": "stdout",
          "text": [
            "Denoising Epoch [1/25], Loss: 0.0082\n"
          ]
        },
        {
          "output_type": "stream",
          "name": "stderr",
          "text": [
            "\n"
          ]
        },
        {
          "output_type": "stream",
          "name": "stdout",
          "text": [
            "Denoising Validation Loss: 0.0026\n"
          ]
        },
        {
          "output_type": "stream",
          "name": "stderr",
          "text": [
            "denoising Epoch 2/25: 100%|██████████| 1500/1500 [00:16<00:00, 93.26it/s]"
          ]
        },
        {
          "output_type": "stream",
          "name": "stdout",
          "text": [
            "Denoising Epoch [2/25], Loss: 0.0030\n"
          ]
        },
        {
          "output_type": "stream",
          "name": "stderr",
          "text": [
            "\n"
          ]
        },
        {
          "output_type": "stream",
          "name": "stdout",
          "text": [
            "Denoising Validation Loss: 0.0025\n"
          ]
        },
        {
          "output_type": "stream",
          "name": "stderr",
          "text": [
            "denoising Epoch 3/25: 100%|██████████| 1500/1500 [00:16<00:00, 91.86it/s]"
          ]
        },
        {
          "output_type": "stream",
          "name": "stdout",
          "text": [
            "Denoising Epoch [3/25], Loss: 0.0026\n"
          ]
        },
        {
          "output_type": "stream",
          "name": "stderr",
          "text": [
            "\n"
          ]
        },
        {
          "output_type": "stream",
          "name": "stdout",
          "text": [
            "Denoising Validation Loss: 0.0022\n"
          ]
        },
        {
          "output_type": "stream",
          "name": "stderr",
          "text": [
            "denoising Epoch 4/25: 100%|██████████| 1500/1500 [00:16<00:00, 93.32it/s]"
          ]
        },
        {
          "output_type": "stream",
          "name": "stdout",
          "text": [
            "Denoising Epoch [4/25], Loss: 0.0023\n"
          ]
        },
        {
          "output_type": "stream",
          "name": "stderr",
          "text": [
            "\n"
          ]
        },
        {
          "output_type": "stream",
          "name": "stdout",
          "text": [
            "Denoising Validation Loss: 0.0019\n"
          ]
        },
        {
          "output_type": "stream",
          "name": "stderr",
          "text": [
            "denoising Epoch 5/25: 100%|██████████| 1500/1500 [00:16<00:00, 92.33it/s]"
          ]
        },
        {
          "output_type": "stream",
          "name": "stdout",
          "text": [
            "Denoising Epoch [5/25], Loss: 0.0022\n"
          ]
        },
        {
          "output_type": "stream",
          "name": "stderr",
          "text": [
            "\n"
          ]
        },
        {
          "output_type": "stream",
          "name": "stdout",
          "text": [
            "Denoising Validation Loss: 0.0018\n"
          ]
        },
        {
          "output_type": "stream",
          "name": "stderr",
          "text": [
            "denoising Epoch 6/25: 100%|██████████| 1500/1500 [00:16<00:00, 92.91it/s]"
          ]
        },
        {
          "output_type": "stream",
          "name": "stdout",
          "text": [
            "Denoising Epoch [6/25], Loss: 0.0020\n"
          ]
        },
        {
          "output_type": "stream",
          "name": "stderr",
          "text": [
            "\n"
          ]
        },
        {
          "output_type": "stream",
          "name": "stdout",
          "text": [
            "Denoising Validation Loss: 0.0018\n"
          ]
        },
        {
          "output_type": "stream",
          "name": "stderr",
          "text": [
            "denoising Epoch 7/25: 100%|██████████| 1500/1500 [00:16<00:00, 91.64it/s]"
          ]
        },
        {
          "output_type": "stream",
          "name": "stdout",
          "text": [
            "Denoising Epoch [7/25], Loss: 0.0019\n"
          ]
        },
        {
          "output_type": "stream",
          "name": "stderr",
          "text": [
            "\n"
          ]
        },
        {
          "output_type": "stream",
          "name": "stdout",
          "text": [
            "Denoising Validation Loss: 0.0018\n"
          ]
        },
        {
          "output_type": "stream",
          "name": "stderr",
          "text": [
            "denoising Epoch 8/25: 100%|██████████| 1500/1500 [00:16<00:00, 92.86it/s]"
          ]
        },
        {
          "output_type": "stream",
          "name": "stdout",
          "text": [
            "Denoising Epoch [8/25], Loss: 0.0019\n"
          ]
        },
        {
          "output_type": "stream",
          "name": "stderr",
          "text": [
            "\n"
          ]
        },
        {
          "output_type": "stream",
          "name": "stdout",
          "text": [
            "Denoising Validation Loss: 0.0017\n"
          ]
        },
        {
          "output_type": "stream",
          "name": "stderr",
          "text": [
            "denoising Epoch 9/25: 100%|██████████| 1500/1500 [00:16<00:00, 90.88it/s]"
          ]
        },
        {
          "output_type": "stream",
          "name": "stdout",
          "text": [
            "Denoising Epoch [9/25], Loss: 0.0018\n"
          ]
        },
        {
          "output_type": "stream",
          "name": "stderr",
          "text": [
            "\n"
          ]
        },
        {
          "output_type": "stream",
          "name": "stdout",
          "text": [
            "Denoising Validation Loss: 0.0016\n"
          ]
        },
        {
          "output_type": "stream",
          "name": "stderr",
          "text": [
            "denoising Epoch 10/25: 100%|██████████| 1500/1500 [00:16<00:00, 91.14it/s]"
          ]
        },
        {
          "output_type": "stream",
          "name": "stdout",
          "text": [
            "Denoising Epoch [10/25], Loss: 0.0018\n"
          ]
        },
        {
          "output_type": "stream",
          "name": "stderr",
          "text": [
            "\n"
          ]
        },
        {
          "output_type": "stream",
          "name": "stdout",
          "text": [
            "Denoising Validation Loss: 0.0016\n"
          ]
        },
        {
          "output_type": "stream",
          "name": "stderr",
          "text": [
            "denoising Epoch 11/25: 100%|██████████| 1500/1500 [00:16<00:00, 90.95it/s]"
          ]
        },
        {
          "output_type": "stream",
          "name": "stdout",
          "text": [
            "Denoising Epoch [11/25], Loss: 0.0017\n"
          ]
        },
        {
          "output_type": "stream",
          "name": "stderr",
          "text": [
            "\n"
          ]
        },
        {
          "output_type": "stream",
          "name": "stdout",
          "text": [
            "Denoising Validation Loss: 0.0016\n"
          ]
        },
        {
          "output_type": "stream",
          "name": "stderr",
          "text": [
            "denoising Epoch 12/25: 100%|██████████| 1500/1500 [00:16<00:00, 92.38it/s]"
          ]
        },
        {
          "output_type": "stream",
          "name": "stdout",
          "text": [
            "Denoising Epoch [12/25], Loss: 0.0017\n"
          ]
        },
        {
          "output_type": "stream",
          "name": "stderr",
          "text": [
            "\n"
          ]
        },
        {
          "output_type": "stream",
          "name": "stdout",
          "text": [
            "Denoising Validation Loss: 0.0016\n"
          ]
        },
        {
          "output_type": "stream",
          "name": "stderr",
          "text": [
            "denoising Epoch 13/25: 100%|██████████| 1500/1500 [00:16<00:00, 90.52it/s]"
          ]
        },
        {
          "output_type": "stream",
          "name": "stdout",
          "text": [
            "Denoising Epoch [13/25], Loss: 0.0017\n"
          ]
        },
        {
          "output_type": "stream",
          "name": "stderr",
          "text": [
            "\n"
          ]
        },
        {
          "output_type": "stream",
          "name": "stdout",
          "text": [
            "Denoising Validation Loss: 0.0017\n"
          ]
        },
        {
          "output_type": "stream",
          "name": "stderr",
          "text": [
            "denoising Epoch 14/25: 100%|██████████| 1500/1500 [00:16<00:00, 89.57it/s]"
          ]
        },
        {
          "output_type": "stream",
          "name": "stdout",
          "text": [
            "Denoising Epoch [14/25], Loss: 0.0017\n"
          ]
        },
        {
          "output_type": "stream",
          "name": "stderr",
          "text": [
            "\n"
          ]
        },
        {
          "output_type": "stream",
          "name": "stdout",
          "text": [
            "Denoising Validation Loss: 0.0018\n"
          ]
        },
        {
          "output_type": "stream",
          "name": "stderr",
          "text": [
            "denoising Epoch 15/25: 100%|██████████| 1500/1500 [00:16<00:00, 90.98it/s]"
          ]
        },
        {
          "output_type": "stream",
          "name": "stdout",
          "text": [
            "Denoising Epoch [15/25], Loss: 0.0016\n"
          ]
        },
        {
          "output_type": "stream",
          "name": "stderr",
          "text": [
            "\n"
          ]
        },
        {
          "output_type": "stream",
          "name": "stdout",
          "text": [
            "Denoising Validation Loss: 0.0017\n"
          ]
        },
        {
          "output_type": "stream",
          "name": "stderr",
          "text": [
            "denoising Epoch 16/25: 100%|██████████| 1500/1500 [00:16<00:00, 91.05it/s]"
          ]
        },
        {
          "output_type": "stream",
          "name": "stdout",
          "text": [
            "Denoising Epoch [16/25], Loss: 0.0016\n"
          ]
        },
        {
          "output_type": "stream",
          "name": "stderr",
          "text": [
            "\n"
          ]
        },
        {
          "output_type": "stream",
          "name": "stdout",
          "text": [
            "Denoising Validation Loss: 0.0015\n"
          ]
        },
        {
          "output_type": "stream",
          "name": "stderr",
          "text": [
            "denoising Epoch 17/25: 100%|██████████| 1500/1500 [00:16<00:00, 90.44it/s]"
          ]
        },
        {
          "output_type": "stream",
          "name": "stdout",
          "text": [
            "Denoising Epoch [17/25], Loss: 0.0016\n"
          ]
        },
        {
          "output_type": "stream",
          "name": "stderr",
          "text": [
            "\n"
          ]
        },
        {
          "output_type": "stream",
          "name": "stdout",
          "text": [
            "Denoising Validation Loss: 0.0017\n"
          ]
        },
        {
          "output_type": "stream",
          "name": "stderr",
          "text": [
            "denoising Epoch 18/25: 100%|██████████| 1500/1500 [00:16<00:00, 88.74it/s]"
          ]
        },
        {
          "output_type": "stream",
          "name": "stdout",
          "text": [
            "Denoising Epoch [18/25], Loss: 0.0016\n"
          ]
        },
        {
          "output_type": "stream",
          "name": "stderr",
          "text": [
            "\n"
          ]
        },
        {
          "output_type": "stream",
          "name": "stdout",
          "text": [
            "Denoising Validation Loss: 0.0015\n"
          ]
        },
        {
          "output_type": "stream",
          "name": "stderr",
          "text": [
            "denoising Epoch 19/25: 100%|██████████| 1500/1500 [00:16<00:00, 92.54it/s]"
          ]
        },
        {
          "output_type": "stream",
          "name": "stdout",
          "text": [
            "Denoising Epoch [19/25], Loss: 0.0016\n"
          ]
        },
        {
          "output_type": "stream",
          "name": "stderr",
          "text": [
            "\n"
          ]
        },
        {
          "output_type": "stream",
          "name": "stdout",
          "text": [
            "Denoising Validation Loss: 0.0016\n"
          ]
        },
        {
          "output_type": "stream",
          "name": "stderr",
          "text": [
            "denoising Epoch 20/25: 100%|██████████| 1500/1500 [00:16<00:00, 90.19it/s]"
          ]
        },
        {
          "output_type": "stream",
          "name": "stdout",
          "text": [
            "Denoising Epoch [20/25], Loss: 0.0016\n"
          ]
        },
        {
          "output_type": "stream",
          "name": "stderr",
          "text": [
            "\n"
          ]
        },
        {
          "output_type": "stream",
          "name": "stdout",
          "text": [
            "Denoising Validation Loss: 0.0016\n"
          ]
        },
        {
          "output_type": "stream",
          "name": "stderr",
          "text": [
            "denoising Epoch 21/25: 100%|██████████| 1500/1500 [00:16<00:00, 91.79it/s]"
          ]
        },
        {
          "output_type": "stream",
          "name": "stdout",
          "text": [
            "Denoising Epoch [21/25], Loss: 0.0016\n"
          ]
        },
        {
          "output_type": "stream",
          "name": "stderr",
          "text": [
            "\n"
          ]
        },
        {
          "output_type": "stream",
          "name": "stdout",
          "text": [
            "Denoising Validation Loss: 0.0015\n"
          ]
        },
        {
          "output_type": "stream",
          "name": "stderr",
          "text": [
            "denoising Epoch 22/25: 100%|██████████| 1500/1500 [00:16<00:00, 91.72it/s]"
          ]
        },
        {
          "output_type": "stream",
          "name": "stdout",
          "text": [
            "Denoising Epoch [22/25], Loss: 0.0016\n"
          ]
        },
        {
          "output_type": "stream",
          "name": "stderr",
          "text": [
            "\n"
          ]
        },
        {
          "output_type": "stream",
          "name": "stdout",
          "text": [
            "Denoising Validation Loss: 0.0015\n"
          ]
        },
        {
          "output_type": "stream",
          "name": "stderr",
          "text": [
            "denoising Epoch 23/25: 100%|██████████| 1500/1500 [00:16<00:00, 91.53it/s]"
          ]
        },
        {
          "output_type": "stream",
          "name": "stdout",
          "text": [
            "Denoising Epoch [23/25], Loss: 0.0015\n"
          ]
        },
        {
          "output_type": "stream",
          "name": "stderr",
          "text": [
            "\n"
          ]
        },
        {
          "output_type": "stream",
          "name": "stdout",
          "text": [
            "Denoising Validation Loss: 0.0015\n"
          ]
        },
        {
          "output_type": "stream",
          "name": "stderr",
          "text": [
            "denoising Epoch 24/25: 100%|██████████| 1500/1500 [00:16<00:00, 92.00it/s]"
          ]
        },
        {
          "output_type": "stream",
          "name": "stdout",
          "text": [
            "Denoising Epoch [24/25], Loss: 0.0015\n"
          ]
        },
        {
          "output_type": "stream",
          "name": "stderr",
          "text": [
            "\n"
          ]
        },
        {
          "output_type": "stream",
          "name": "stdout",
          "text": [
            "Denoising Validation Loss: 0.0015\n"
          ]
        },
        {
          "output_type": "stream",
          "name": "stderr",
          "text": [
            "denoising Epoch 25/25: 100%|██████████| 1500/1500 [00:16<00:00, 91.08it/s]"
          ]
        },
        {
          "output_type": "stream",
          "name": "stdout",
          "text": [
            "Denoising Epoch [25/25], Loss: 0.0015\n"
          ]
        },
        {
          "output_type": "stream",
          "name": "stderr",
          "text": [
            "\n"
          ]
        },
        {
          "output_type": "stream",
          "name": "stdout",
          "text": [
            "Denoising Validation Loss: 0.0016\n",
            "Denoising model saved locally to /content/trained_models/denoising_model.pth\n",
            "Denoising model saved to Google Drive at /content/drive/MyDrive/ImageEnhancement/denoising_model.pth\n",
            "\n",
            "--- Fine-Tuning Super_resolution Model ---\n",
            "\n",
            "Starting fine-tuning for super_resolution...\n"
          ]
        },
        {
          "output_type": "stream",
          "name": "stderr",
          "text": [
            "super_resolution Epoch 1/25: 100%|██████████| 1500/1500 [00:16<00:00, 91.60it/s]"
          ]
        },
        {
          "output_type": "stream",
          "name": "stdout",
          "text": [
            "Super_resolution Epoch [1/25], Loss: 0.0132\n"
          ]
        },
        {
          "output_type": "stream",
          "name": "stderr",
          "text": [
            "\n"
          ]
        },
        {
          "output_type": "stream",
          "name": "stdout",
          "text": [
            "Super_resolution Validation Loss: 0.0129\n"
          ]
        },
        {
          "output_type": "stream",
          "name": "stderr",
          "text": [
            "super_resolution Epoch 2/25: 100%|██████████| 1500/1500 [00:16<00:00, 89.88it/s]"
          ]
        },
        {
          "output_type": "stream",
          "name": "stdout",
          "text": [
            "Super_resolution Epoch [2/25], Loss: 0.0041\n"
          ]
        },
        {
          "output_type": "stream",
          "name": "stderr",
          "text": [
            "\n"
          ]
        },
        {
          "output_type": "stream",
          "name": "stdout",
          "text": [
            "Super_resolution Validation Loss: 0.0028\n"
          ]
        },
        {
          "output_type": "stream",
          "name": "stderr",
          "text": [
            "super_resolution Epoch 3/25: 100%|██████████| 1500/1500 [00:16<00:00, 92.34it/s]"
          ]
        },
        {
          "output_type": "stream",
          "name": "stdout",
          "text": [
            "Super_resolution Epoch [3/25], Loss: 0.0035\n"
          ]
        },
        {
          "output_type": "stream",
          "name": "stderr",
          "text": [
            "\n"
          ]
        },
        {
          "output_type": "stream",
          "name": "stdout",
          "text": [
            "Super_resolution Validation Loss: 0.0027\n"
          ]
        },
        {
          "output_type": "stream",
          "name": "stderr",
          "text": [
            "super_resolution Epoch 4/25: 100%|██████████| 1500/1500 [00:16<00:00, 91.48it/s]"
          ]
        },
        {
          "output_type": "stream",
          "name": "stdout",
          "text": [
            "Super_resolution Epoch [4/25], Loss: 0.0031\n"
          ]
        },
        {
          "output_type": "stream",
          "name": "stderr",
          "text": [
            "\n"
          ]
        },
        {
          "output_type": "stream",
          "name": "stdout",
          "text": [
            "Super_resolution Validation Loss: 0.0025\n"
          ]
        },
        {
          "output_type": "stream",
          "name": "stderr",
          "text": [
            "super_resolution Epoch 5/25: 100%|██████████| 1500/1500 [00:16<00:00, 91.52it/s]"
          ]
        },
        {
          "output_type": "stream",
          "name": "stdout",
          "text": [
            "Super_resolution Epoch [5/25], Loss: 0.0029\n"
          ]
        },
        {
          "output_type": "stream",
          "name": "stderr",
          "text": [
            "\n"
          ]
        },
        {
          "output_type": "stream",
          "name": "stdout",
          "text": [
            "Super_resolution Validation Loss: 0.0024\n"
          ]
        },
        {
          "output_type": "stream",
          "name": "stderr",
          "text": [
            "super_resolution Epoch 6/25: 100%|██████████| 1500/1500 [00:16<00:00, 91.70it/s]"
          ]
        },
        {
          "output_type": "stream",
          "name": "stdout",
          "text": [
            "Super_resolution Epoch [6/25], Loss: 0.0027\n"
          ]
        },
        {
          "output_type": "stream",
          "name": "stderr",
          "text": [
            "\n"
          ]
        },
        {
          "output_type": "stream",
          "name": "stdout",
          "text": [
            "Super_resolution Validation Loss: 0.0023\n"
          ]
        },
        {
          "output_type": "stream",
          "name": "stderr",
          "text": [
            "super_resolution Epoch 7/25: 100%|██████████| 1500/1500 [00:16<00:00, 92.94it/s]"
          ]
        },
        {
          "output_type": "stream",
          "name": "stdout",
          "text": [
            "Super_resolution Epoch [7/25], Loss: 0.0025\n"
          ]
        },
        {
          "output_type": "stream",
          "name": "stderr",
          "text": [
            "\n"
          ]
        },
        {
          "output_type": "stream",
          "name": "stdout",
          "text": [
            "Super_resolution Validation Loss: 0.0023\n"
          ]
        },
        {
          "output_type": "stream",
          "name": "stderr",
          "text": [
            "super_resolution Epoch 8/25: 100%|██████████| 1500/1500 [00:16<00:00, 91.18it/s]"
          ]
        },
        {
          "output_type": "stream",
          "name": "stdout",
          "text": [
            "Super_resolution Epoch [8/25], Loss: 0.0024\n"
          ]
        },
        {
          "output_type": "stream",
          "name": "stderr",
          "text": [
            "\n"
          ]
        },
        {
          "output_type": "stream",
          "name": "stdout",
          "text": [
            "Super_resolution Validation Loss: 0.0023\n"
          ]
        },
        {
          "output_type": "stream",
          "name": "stderr",
          "text": [
            "super_resolution Epoch 9/25: 100%|██████████| 1500/1500 [00:16<00:00, 92.31it/s]"
          ]
        },
        {
          "output_type": "stream",
          "name": "stdout",
          "text": [
            "Super_resolution Epoch [9/25], Loss: 0.0023\n"
          ]
        },
        {
          "output_type": "stream",
          "name": "stderr",
          "text": [
            "\n"
          ]
        },
        {
          "output_type": "stream",
          "name": "stdout",
          "text": [
            "Super_resolution Validation Loss: 0.0022\n"
          ]
        },
        {
          "output_type": "stream",
          "name": "stderr",
          "text": [
            "super_resolution Epoch 10/25: 100%|██████████| 1500/1500 [00:16<00:00, 90.14it/s]"
          ]
        },
        {
          "output_type": "stream",
          "name": "stdout",
          "text": [
            "Super_resolution Epoch [10/25], Loss: 0.0023\n"
          ]
        },
        {
          "output_type": "stream",
          "name": "stderr",
          "text": [
            "\n"
          ]
        },
        {
          "output_type": "stream",
          "name": "stdout",
          "text": [
            "Super_resolution Validation Loss: 0.0022\n"
          ]
        },
        {
          "output_type": "stream",
          "name": "stderr",
          "text": [
            "super_resolution Epoch 11/25: 100%|██████████| 1500/1500 [00:16<00:00, 91.04it/s]"
          ]
        },
        {
          "output_type": "stream",
          "name": "stdout",
          "text": [
            "Super_resolution Epoch [11/25], Loss: 0.0022\n"
          ]
        },
        {
          "output_type": "stream",
          "name": "stderr",
          "text": [
            "\n"
          ]
        },
        {
          "output_type": "stream",
          "name": "stdout",
          "text": [
            "Super_resolution Validation Loss: 0.0021\n"
          ]
        },
        {
          "output_type": "stream",
          "name": "stderr",
          "text": [
            "super_resolution Epoch 12/25: 100%|██████████| 1500/1500 [00:16<00:00, 90.19it/s]"
          ]
        },
        {
          "output_type": "stream",
          "name": "stdout",
          "text": [
            "Super_resolution Epoch [12/25], Loss: 0.0022\n"
          ]
        },
        {
          "output_type": "stream",
          "name": "stderr",
          "text": [
            "\n"
          ]
        },
        {
          "output_type": "stream",
          "name": "stdout",
          "text": [
            "Super_resolution Validation Loss: 0.0021\n"
          ]
        },
        {
          "output_type": "stream",
          "name": "stderr",
          "text": [
            "super_resolution Epoch 13/25: 100%|██████████| 1500/1500 [00:16<00:00, 90.78it/s]"
          ]
        },
        {
          "output_type": "stream",
          "name": "stdout",
          "text": [
            "Super_resolution Epoch [13/25], Loss: 0.0021\n"
          ]
        },
        {
          "output_type": "stream",
          "name": "stderr",
          "text": [
            "\n"
          ]
        },
        {
          "output_type": "stream",
          "name": "stdout",
          "text": [
            "Super_resolution Validation Loss: 0.0020\n"
          ]
        },
        {
          "output_type": "stream",
          "name": "stderr",
          "text": [
            "super_resolution Epoch 14/25: 100%|██████████| 1500/1500 [00:16<00:00, 92.51it/s]"
          ]
        },
        {
          "output_type": "stream",
          "name": "stdout",
          "text": [
            "Super_resolution Epoch [14/25], Loss: 0.0021\n"
          ]
        },
        {
          "output_type": "stream",
          "name": "stderr",
          "text": [
            "\n"
          ]
        },
        {
          "output_type": "stream",
          "name": "stdout",
          "text": [
            "Super_resolution Validation Loss: 0.0020\n"
          ]
        },
        {
          "output_type": "stream",
          "name": "stderr",
          "text": [
            "super_resolution Epoch 15/25: 100%|██████████| 1500/1500 [00:16<00:00, 91.34it/s]"
          ]
        },
        {
          "output_type": "stream",
          "name": "stdout",
          "text": [
            "Super_resolution Epoch [15/25], Loss: 0.0021\n"
          ]
        },
        {
          "output_type": "stream",
          "name": "stderr",
          "text": [
            "\n"
          ]
        },
        {
          "output_type": "stream",
          "name": "stdout",
          "text": [
            "Super_resolution Validation Loss: 0.0020\n"
          ]
        },
        {
          "output_type": "stream",
          "name": "stderr",
          "text": [
            "super_resolution Epoch 16/25: 100%|██████████| 1500/1500 [00:16<00:00, 91.69it/s]"
          ]
        },
        {
          "output_type": "stream",
          "name": "stdout",
          "text": [
            "Super_resolution Epoch [16/25], Loss: 0.0021\n"
          ]
        },
        {
          "output_type": "stream",
          "name": "stderr",
          "text": [
            "\n"
          ]
        },
        {
          "output_type": "stream",
          "name": "stdout",
          "text": [
            "Super_resolution Validation Loss: 0.0020\n"
          ]
        },
        {
          "output_type": "stream",
          "name": "stderr",
          "text": [
            "super_resolution Epoch 17/25: 100%|██████████| 1500/1500 [00:16<00:00, 92.03it/s]"
          ]
        },
        {
          "output_type": "stream",
          "name": "stdout",
          "text": [
            "Super_resolution Epoch [17/25], Loss: 0.0020\n"
          ]
        },
        {
          "output_type": "stream",
          "name": "stderr",
          "text": [
            "\n"
          ]
        },
        {
          "output_type": "stream",
          "name": "stdout",
          "text": [
            "Super_resolution Validation Loss: 0.0020\n"
          ]
        },
        {
          "output_type": "stream",
          "name": "stderr",
          "text": [
            "super_resolution Epoch 18/25: 100%|██████████| 1500/1500 [00:16<00:00, 91.78it/s]"
          ]
        },
        {
          "output_type": "stream",
          "name": "stdout",
          "text": [
            "Super_resolution Epoch [18/25], Loss: 0.0020\n"
          ]
        },
        {
          "output_type": "stream",
          "name": "stderr",
          "text": [
            "\n"
          ]
        },
        {
          "output_type": "stream",
          "name": "stdout",
          "text": [
            "Super_resolution Validation Loss: 0.0020\n"
          ]
        },
        {
          "output_type": "stream",
          "name": "stderr",
          "text": [
            "super_resolution Epoch 19/25: 100%|██████████| 1500/1500 [00:16<00:00, 91.61it/s]"
          ]
        },
        {
          "output_type": "stream",
          "name": "stdout",
          "text": [
            "Super_resolution Epoch [19/25], Loss: 0.0020\n"
          ]
        },
        {
          "output_type": "stream",
          "name": "stderr",
          "text": [
            "\n"
          ]
        },
        {
          "output_type": "stream",
          "name": "stdout",
          "text": [
            "Super_resolution Validation Loss: 0.0020\n"
          ]
        },
        {
          "output_type": "stream",
          "name": "stderr",
          "text": [
            "super_resolution Epoch 20/25: 100%|██████████| 1500/1500 [00:16<00:00, 92.36it/s]"
          ]
        },
        {
          "output_type": "stream",
          "name": "stdout",
          "text": [
            "Super_resolution Epoch [20/25], Loss: 0.0020\n"
          ]
        },
        {
          "output_type": "stream",
          "name": "stderr",
          "text": [
            "\n"
          ]
        },
        {
          "output_type": "stream",
          "name": "stdout",
          "text": [
            "Super_resolution Validation Loss: 0.0020\n"
          ]
        },
        {
          "output_type": "stream",
          "name": "stderr",
          "text": [
            "super_resolution Epoch 21/25: 100%|██████████| 1500/1500 [00:16<00:00, 92.18it/s]"
          ]
        },
        {
          "output_type": "stream",
          "name": "stdout",
          "text": [
            "Super_resolution Epoch [21/25], Loss: 0.0019\n"
          ]
        },
        {
          "output_type": "stream",
          "name": "stderr",
          "text": [
            "\n"
          ]
        },
        {
          "output_type": "stream",
          "name": "stdout",
          "text": [
            "Super_resolution Validation Loss: 0.0020\n"
          ]
        },
        {
          "output_type": "stream",
          "name": "stderr",
          "text": [
            "super_resolution Epoch 22/25: 100%|██████████| 1500/1500 [00:16<00:00, 90.77it/s]"
          ]
        },
        {
          "output_type": "stream",
          "name": "stdout",
          "text": [
            "Super_resolution Epoch [22/25], Loss: 0.0019\n"
          ]
        },
        {
          "output_type": "stream",
          "name": "stderr",
          "text": [
            "\n"
          ]
        },
        {
          "output_type": "stream",
          "name": "stdout",
          "text": [
            "Super_resolution Validation Loss: 0.0020\n"
          ]
        },
        {
          "output_type": "stream",
          "name": "stderr",
          "text": [
            "super_resolution Epoch 23/25: 100%|██████████| 1500/1500 [00:16<00:00, 91.47it/s]"
          ]
        },
        {
          "output_type": "stream",
          "name": "stdout",
          "text": [
            "Super_resolution Epoch [23/25], Loss: 0.0019\n"
          ]
        },
        {
          "output_type": "stream",
          "name": "stderr",
          "text": [
            "\n"
          ]
        },
        {
          "output_type": "stream",
          "name": "stdout",
          "text": [
            "Super_resolution Validation Loss: 0.0020\n"
          ]
        },
        {
          "output_type": "stream",
          "name": "stderr",
          "text": [
            "super_resolution Epoch 24/25: 100%|██████████| 1500/1500 [00:16<00:00, 91.17it/s]"
          ]
        },
        {
          "output_type": "stream",
          "name": "stdout",
          "text": [
            "Super_resolution Epoch [24/25], Loss: 0.0019\n"
          ]
        },
        {
          "output_type": "stream",
          "name": "stderr",
          "text": [
            "\n"
          ]
        },
        {
          "output_type": "stream",
          "name": "stdout",
          "text": [
            "Super_resolution Validation Loss: 0.0020\n"
          ]
        },
        {
          "output_type": "stream",
          "name": "stderr",
          "text": [
            "super_resolution Epoch 25/25: 100%|██████████| 1500/1500 [00:16<00:00, 91.87it/s]"
          ]
        },
        {
          "output_type": "stream",
          "name": "stdout",
          "text": [
            "Super_resolution Epoch [25/25], Loss: 0.0018\n"
          ]
        },
        {
          "output_type": "stream",
          "name": "stderr",
          "text": [
            "\n"
          ]
        },
        {
          "output_type": "stream",
          "name": "stdout",
          "text": [
            "Super_resolution Validation Loss: 0.0022\n",
            "Super_resolution model saved locally to /content/trained_models/super_resolution_model.pth\n",
            "Super_resolution model saved to Google Drive at /content/drive/MyDrive/ImageEnhancement/super_resolution_model.pth\n",
            "\n",
            "--- Fine-Tuning Colorization Model ---\n",
            "\n",
            "Starting fine-tuning for colorization...\n"
          ]
        },
        {
          "output_type": "stream",
          "name": "stderr",
          "text": [
            "colorization Epoch 1/25: 100%|██████████| 1500/1500 [00:16<00:00, 89.81it/s]"
          ]
        },
        {
          "output_type": "stream",
          "name": "stdout",
          "text": [
            "Colorization Epoch [1/25], Loss: 0.0137\n"
          ]
        },
        {
          "output_type": "stream",
          "name": "stderr",
          "text": [
            "\n"
          ]
        },
        {
          "output_type": "stream",
          "name": "stdout",
          "text": [
            "Colorization Validation Loss: 0.0095\n"
          ]
        },
        {
          "output_type": "stream",
          "name": "stderr",
          "text": [
            "colorization Epoch 2/25: 100%|██████████| 1500/1500 [00:16<00:00, 91.33it/s]"
          ]
        },
        {
          "output_type": "stream",
          "name": "stdout",
          "text": [
            "Colorization Epoch [2/25], Loss: 0.0094\n"
          ]
        },
        {
          "output_type": "stream",
          "name": "stderr",
          "text": [
            "\n"
          ]
        },
        {
          "output_type": "stream",
          "name": "stdout",
          "text": [
            "Colorization Validation Loss: 0.0086\n"
          ]
        },
        {
          "output_type": "stream",
          "name": "stderr",
          "text": [
            "colorization Epoch 3/25: 100%|██████████| 1500/1500 [00:17<00:00, 84.04it/s]"
          ]
        },
        {
          "output_type": "stream",
          "name": "stdout",
          "text": [
            "Colorization Epoch [3/25], Loss: 0.0089\n"
          ]
        },
        {
          "output_type": "stream",
          "name": "stderr",
          "text": [
            "\n"
          ]
        },
        {
          "output_type": "stream",
          "name": "stdout",
          "text": [
            "Colorization Validation Loss: 0.0084\n"
          ]
        },
        {
          "output_type": "stream",
          "name": "stderr",
          "text": [
            "colorization Epoch 4/25: 100%|██████████| 1500/1500 [00:16<00:00, 91.03it/s]"
          ]
        },
        {
          "output_type": "stream",
          "name": "stdout",
          "text": [
            "Colorization Epoch [4/25], Loss: 0.0085\n"
          ]
        },
        {
          "output_type": "stream",
          "name": "stderr",
          "text": [
            "\n"
          ]
        },
        {
          "output_type": "stream",
          "name": "stdout",
          "text": [
            "Colorization Validation Loss: 0.0081\n"
          ]
        },
        {
          "output_type": "stream",
          "name": "stderr",
          "text": [
            "colorization Epoch 5/25: 100%|██████████| 1500/1500 [00:16<00:00, 91.17it/s]"
          ]
        },
        {
          "output_type": "stream",
          "name": "stdout",
          "text": [
            "Colorization Epoch [5/25], Loss: 0.0082\n"
          ]
        },
        {
          "output_type": "stream",
          "name": "stderr",
          "text": [
            "\n"
          ]
        },
        {
          "output_type": "stream",
          "name": "stdout",
          "text": [
            "Colorization Validation Loss: 0.0081\n"
          ]
        },
        {
          "output_type": "stream",
          "name": "stderr",
          "text": [
            "colorization Epoch 6/25: 100%|██████████| 1500/1500 [00:16<00:00, 89.81it/s]"
          ]
        },
        {
          "output_type": "stream",
          "name": "stdout",
          "text": [
            "Colorization Epoch [6/25], Loss: 0.0080\n"
          ]
        },
        {
          "output_type": "stream",
          "name": "stderr",
          "text": [
            "\n"
          ]
        },
        {
          "output_type": "stream",
          "name": "stdout",
          "text": [
            "Colorization Validation Loss: 0.0079\n"
          ]
        },
        {
          "output_type": "stream",
          "name": "stderr",
          "text": [
            "colorization Epoch 7/25: 100%|██████████| 1500/1500 [00:16<00:00, 92.20it/s]"
          ]
        },
        {
          "output_type": "stream",
          "name": "stdout",
          "text": [
            "Colorization Epoch [7/25], Loss: 0.0077\n"
          ]
        },
        {
          "output_type": "stream",
          "name": "stderr",
          "text": [
            "\n"
          ]
        },
        {
          "output_type": "stream",
          "name": "stdout",
          "text": [
            "Colorization Validation Loss: 0.0080\n"
          ]
        },
        {
          "output_type": "stream",
          "name": "stderr",
          "text": [
            "colorization Epoch 8/25: 100%|██████████| 1500/1500 [00:16<00:00, 91.50it/s]"
          ]
        },
        {
          "output_type": "stream",
          "name": "stdout",
          "text": [
            "Colorization Epoch [8/25], Loss: 0.0074\n"
          ]
        },
        {
          "output_type": "stream",
          "name": "stderr",
          "text": [
            "\n"
          ]
        },
        {
          "output_type": "stream",
          "name": "stdout",
          "text": [
            "Colorization Validation Loss: 0.0077\n"
          ]
        },
        {
          "output_type": "stream",
          "name": "stderr",
          "text": [
            "colorization Epoch 9/25: 100%|██████████| 1500/1500 [00:16<00:00, 91.21it/s]"
          ]
        },
        {
          "output_type": "stream",
          "name": "stdout",
          "text": [
            "Colorization Epoch [9/25], Loss: 0.0071\n"
          ]
        },
        {
          "output_type": "stream",
          "name": "stderr",
          "text": [
            "\n"
          ]
        },
        {
          "output_type": "stream",
          "name": "stdout",
          "text": [
            "Colorization Validation Loss: 0.0078\n"
          ]
        },
        {
          "output_type": "stream",
          "name": "stderr",
          "text": [
            "colorization Epoch 10/25: 100%|██████████| 1500/1500 [00:16<00:00, 89.05it/s]"
          ]
        },
        {
          "output_type": "stream",
          "name": "stdout",
          "text": [
            "Colorization Epoch [10/25], Loss: 0.0067\n"
          ]
        },
        {
          "output_type": "stream",
          "name": "stderr",
          "text": [
            "\n"
          ]
        },
        {
          "output_type": "stream",
          "name": "stdout",
          "text": [
            "Colorization Validation Loss: 0.0079\n"
          ]
        },
        {
          "output_type": "stream",
          "name": "stderr",
          "text": [
            "colorization Epoch 11/25: 100%|██████████| 1500/1500 [00:16<00:00, 89.41it/s]"
          ]
        },
        {
          "output_type": "stream",
          "name": "stdout",
          "text": [
            "Colorization Epoch [11/25], Loss: 0.0062\n"
          ]
        },
        {
          "output_type": "stream",
          "name": "stderr",
          "text": [
            "\n"
          ]
        },
        {
          "output_type": "stream",
          "name": "stdout",
          "text": [
            "Colorization Validation Loss: 0.0080\n"
          ]
        },
        {
          "output_type": "stream",
          "name": "stderr",
          "text": [
            "colorization Epoch 12/25: 100%|██████████| 1500/1500 [00:16<00:00, 90.25it/s]"
          ]
        },
        {
          "output_type": "stream",
          "name": "stdout",
          "text": [
            "Colorization Epoch [12/25], Loss: 0.0058\n"
          ]
        },
        {
          "output_type": "stream",
          "name": "stderr",
          "text": [
            "\n"
          ]
        },
        {
          "output_type": "stream",
          "name": "stdout",
          "text": [
            "Colorization Validation Loss: 0.0079\n"
          ]
        },
        {
          "output_type": "stream",
          "name": "stderr",
          "text": [
            "colorization Epoch 13/25: 100%|██████████| 1500/1500 [00:16<00:00, 88.37it/s]"
          ]
        },
        {
          "output_type": "stream",
          "name": "stdout",
          "text": [
            "Colorization Epoch [13/25], Loss: 0.0055\n"
          ]
        },
        {
          "output_type": "stream",
          "name": "stderr",
          "text": [
            "\n"
          ]
        },
        {
          "output_type": "stream",
          "name": "stdout",
          "text": [
            "Colorization Validation Loss: 0.0079\n"
          ]
        },
        {
          "output_type": "stream",
          "name": "stderr",
          "text": [
            "colorization Epoch 14/25: 100%|██████████| 1500/1500 [00:16<00:00, 90.01it/s]"
          ]
        },
        {
          "output_type": "stream",
          "name": "stdout",
          "text": [
            "Colorization Epoch [14/25], Loss: 0.0051\n"
          ]
        },
        {
          "output_type": "stream",
          "name": "stderr",
          "text": [
            "\n"
          ]
        },
        {
          "output_type": "stream",
          "name": "stdout",
          "text": [
            "Colorization Validation Loss: 0.0079\n"
          ]
        },
        {
          "output_type": "stream",
          "name": "stderr",
          "text": [
            "colorization Epoch 15/25: 100%|██████████| 1500/1500 [00:16<00:00, 91.06it/s]"
          ]
        },
        {
          "output_type": "stream",
          "name": "stdout",
          "text": [
            "Colorization Epoch [15/25], Loss: 0.0048\n"
          ]
        },
        {
          "output_type": "stream",
          "name": "stderr",
          "text": [
            "\n"
          ]
        },
        {
          "output_type": "stream",
          "name": "stdout",
          "text": [
            "Colorization Validation Loss: 0.0080\n"
          ]
        },
        {
          "output_type": "stream",
          "name": "stderr",
          "text": [
            "colorization Epoch 16/25: 100%|██████████| 1500/1500 [00:16<00:00, 92.12it/s]"
          ]
        },
        {
          "output_type": "stream",
          "name": "stdout",
          "text": [
            "Colorization Epoch [16/25], Loss: 0.0046\n"
          ]
        },
        {
          "output_type": "stream",
          "name": "stderr",
          "text": [
            "\n"
          ]
        },
        {
          "output_type": "stream",
          "name": "stdout",
          "text": [
            "Colorization Validation Loss: 0.0079\n"
          ]
        },
        {
          "output_type": "stream",
          "name": "stderr",
          "text": [
            "colorization Epoch 17/25: 100%|██████████| 1500/1500 [00:16<00:00, 91.20it/s]"
          ]
        },
        {
          "output_type": "stream",
          "name": "stdout",
          "text": [
            "Colorization Epoch [17/25], Loss: 0.0043\n"
          ]
        },
        {
          "output_type": "stream",
          "name": "stderr",
          "text": [
            "\n"
          ]
        },
        {
          "output_type": "stream",
          "name": "stdout",
          "text": [
            "Colorization Validation Loss: 0.0081\n"
          ]
        },
        {
          "output_type": "stream",
          "name": "stderr",
          "text": [
            "colorization Epoch 18/25: 100%|██████████| 1500/1500 [00:16<00:00, 92.98it/s]"
          ]
        },
        {
          "output_type": "stream",
          "name": "stdout",
          "text": [
            "Colorization Epoch [18/25], Loss: 0.0041\n"
          ]
        },
        {
          "output_type": "stream",
          "name": "stderr",
          "text": [
            "\n"
          ]
        },
        {
          "output_type": "stream",
          "name": "stdout",
          "text": [
            "Colorization Validation Loss: 0.0079\n"
          ]
        },
        {
          "output_type": "stream",
          "name": "stderr",
          "text": [
            "colorization Epoch 19/25: 100%|██████████| 1500/1500 [00:16<00:00, 91.17it/s]"
          ]
        },
        {
          "output_type": "stream",
          "name": "stdout",
          "text": [
            "Colorization Epoch [19/25], Loss: 0.0039\n"
          ]
        },
        {
          "output_type": "stream",
          "name": "stderr",
          "text": [
            "\n"
          ]
        },
        {
          "output_type": "stream",
          "name": "stdout",
          "text": [
            "Colorization Validation Loss: 0.0083\n"
          ]
        },
        {
          "output_type": "stream",
          "name": "stderr",
          "text": [
            "colorization Epoch 20/25: 100%|██████████| 1500/1500 [00:16<00:00, 91.70it/s]"
          ]
        },
        {
          "output_type": "stream",
          "name": "stdout",
          "text": [
            "Colorization Epoch [20/25], Loss: 0.0038\n"
          ]
        },
        {
          "output_type": "stream",
          "name": "stderr",
          "text": [
            "\n"
          ]
        },
        {
          "output_type": "stream",
          "name": "stdout",
          "text": [
            "Colorization Validation Loss: 0.0079\n"
          ]
        },
        {
          "output_type": "stream",
          "name": "stderr",
          "text": [
            "colorization Epoch 21/25: 100%|██████████| 1500/1500 [00:16<00:00, 90.82it/s]"
          ]
        },
        {
          "output_type": "stream",
          "name": "stdout",
          "text": [
            "Colorization Epoch [21/25], Loss: 0.0036\n"
          ]
        },
        {
          "output_type": "stream",
          "name": "stderr",
          "text": [
            "\n"
          ]
        },
        {
          "output_type": "stream",
          "name": "stdout",
          "text": [
            "Colorization Validation Loss: 0.0082\n"
          ]
        },
        {
          "output_type": "stream",
          "name": "stderr",
          "text": [
            "colorization Epoch 22/25: 100%|██████████| 1500/1500 [00:16<00:00, 90.98it/s]"
          ]
        },
        {
          "output_type": "stream",
          "name": "stdout",
          "text": [
            "Colorization Epoch [22/25], Loss: 0.0034\n"
          ]
        },
        {
          "output_type": "stream",
          "name": "stderr",
          "text": [
            "\n"
          ]
        },
        {
          "output_type": "stream",
          "name": "stdout",
          "text": [
            "Colorization Validation Loss: 0.0080\n"
          ]
        },
        {
          "output_type": "stream",
          "name": "stderr",
          "text": [
            "colorization Epoch 23/25: 100%|██████████| 1500/1500 [00:16<00:00, 91.30it/s]"
          ]
        },
        {
          "output_type": "stream",
          "name": "stdout",
          "text": [
            "Colorization Epoch [23/25], Loss: 0.0033\n"
          ]
        },
        {
          "output_type": "stream",
          "name": "stderr",
          "text": [
            "\n"
          ]
        },
        {
          "output_type": "stream",
          "name": "stdout",
          "text": [
            "Colorization Validation Loss: 0.0081\n"
          ]
        },
        {
          "output_type": "stream",
          "name": "stderr",
          "text": [
            "colorization Epoch 24/25: 100%|██████████| 1500/1500 [00:16<00:00, 91.53it/s]"
          ]
        },
        {
          "output_type": "stream",
          "name": "stdout",
          "text": [
            "Colorization Epoch [24/25], Loss: 0.0032\n"
          ]
        },
        {
          "output_type": "stream",
          "name": "stderr",
          "text": [
            "\n"
          ]
        },
        {
          "output_type": "stream",
          "name": "stdout",
          "text": [
            "Colorization Validation Loss: 0.0083\n"
          ]
        },
        {
          "output_type": "stream",
          "name": "stderr",
          "text": [
            "colorization Epoch 25/25: 100%|██████████| 1500/1500 [00:16<00:00, 91.34it/s]"
          ]
        },
        {
          "output_type": "stream",
          "name": "stdout",
          "text": [
            "Colorization Epoch [25/25], Loss: 0.0030\n"
          ]
        },
        {
          "output_type": "stream",
          "name": "stderr",
          "text": [
            "\n"
          ]
        },
        {
          "output_type": "stream",
          "name": "stdout",
          "text": [
            "Colorization Validation Loss: 0.0079\n",
            "Colorization model saved locally to /content/trained_models/colorization_model.pth\n",
            "Colorization model saved to Google Drive at /content/drive/MyDrive/ImageEnhancement/colorization_model.pth\n",
            "\n",
            "--- Fine-Tuning Inpainting Model ---\n",
            "\n",
            "Starting fine-tuning for inpainting...\n"
          ]
        },
        {
          "output_type": "stream",
          "name": "stderr",
          "text": [
            "inpainting Epoch 1/25: 100%|██████████| 1500/1500 [00:16<00:00, 91.13it/s]"
          ]
        },
        {
          "output_type": "stream",
          "name": "stdout",
          "text": [
            "Inpainting Epoch [1/25], Loss: 0.0050\n"
          ]
        },
        {
          "output_type": "stream",
          "name": "stderr",
          "text": [
            "\n"
          ]
        },
        {
          "output_type": "stream",
          "name": "stdout",
          "text": [
            "Inpainting Validation Loss: 0.0021\n"
          ]
        },
        {
          "output_type": "stream",
          "name": "stderr",
          "text": [
            "inpainting Epoch 2/25: 100%|██████████| 1500/1500 [00:16<00:00, 92.05it/s]"
          ]
        },
        {
          "output_type": "stream",
          "name": "stdout",
          "text": [
            "Inpainting Epoch [2/25], Loss: 0.0022\n"
          ]
        },
        {
          "output_type": "stream",
          "name": "stderr",
          "text": [
            "\n"
          ]
        },
        {
          "output_type": "stream",
          "name": "stdout",
          "text": [
            "Inpainting Validation Loss: 0.0014\n"
          ]
        },
        {
          "output_type": "stream",
          "name": "stderr",
          "text": [
            "inpainting Epoch 3/25: 100%|██████████| 1500/1500 [00:16<00:00, 90.25it/s]"
          ]
        },
        {
          "output_type": "stream",
          "name": "stdout",
          "text": [
            "Inpainting Epoch [3/25], Loss: 0.0017\n"
          ]
        },
        {
          "output_type": "stream",
          "name": "stderr",
          "text": [
            "\n"
          ]
        },
        {
          "output_type": "stream",
          "name": "stdout",
          "text": [
            "Inpainting Validation Loss: 0.0012\n"
          ]
        },
        {
          "output_type": "stream",
          "name": "stderr",
          "text": [
            "inpainting Epoch 4/25: 100%|██████████| 1500/1500 [00:16<00:00, 91.79it/s]"
          ]
        },
        {
          "output_type": "stream",
          "name": "stdout",
          "text": [
            "Inpainting Epoch [4/25], Loss: 0.0015\n"
          ]
        },
        {
          "output_type": "stream",
          "name": "stderr",
          "text": [
            "\n"
          ]
        },
        {
          "output_type": "stream",
          "name": "stdout",
          "text": [
            "Inpainting Validation Loss: 0.0011\n"
          ]
        },
        {
          "output_type": "stream",
          "name": "stderr",
          "text": [
            "inpainting Epoch 5/25: 100%|██████████| 1500/1500 [00:16<00:00, 89.76it/s]"
          ]
        },
        {
          "output_type": "stream",
          "name": "stdout",
          "text": [
            "Inpainting Epoch [5/25], Loss: 0.0014\n"
          ]
        },
        {
          "output_type": "stream",
          "name": "stderr",
          "text": [
            "\n"
          ]
        },
        {
          "output_type": "stream",
          "name": "stdout",
          "text": [
            "Inpainting Validation Loss: 0.0013\n"
          ]
        },
        {
          "output_type": "stream",
          "name": "stderr",
          "text": [
            "inpainting Epoch 6/25: 100%|██████████| 1500/1500 [00:16<00:00, 92.17it/s]"
          ]
        },
        {
          "output_type": "stream",
          "name": "stdout",
          "text": [
            "Inpainting Epoch [6/25], Loss: 0.0013\n"
          ]
        },
        {
          "output_type": "stream",
          "name": "stderr",
          "text": [
            "\n"
          ]
        },
        {
          "output_type": "stream",
          "name": "stdout",
          "text": [
            "Inpainting Validation Loss: 0.0010\n"
          ]
        },
        {
          "output_type": "stream",
          "name": "stderr",
          "text": [
            "inpainting Epoch 7/25: 100%|██████████| 1500/1500 [00:16<00:00, 91.73it/s]"
          ]
        },
        {
          "output_type": "stream",
          "name": "stdout",
          "text": [
            "Inpainting Epoch [7/25], Loss: 0.0012\n"
          ]
        },
        {
          "output_type": "stream",
          "name": "stderr",
          "text": [
            "\n"
          ]
        },
        {
          "output_type": "stream",
          "name": "stdout",
          "text": [
            "Inpainting Validation Loss: 0.0010\n"
          ]
        },
        {
          "output_type": "stream",
          "name": "stderr",
          "text": [
            "inpainting Epoch 8/25: 100%|██████████| 1500/1500 [00:16<00:00, 91.67it/s]"
          ]
        },
        {
          "output_type": "stream",
          "name": "stdout",
          "text": [
            "Inpainting Epoch [8/25], Loss: 0.0011\n"
          ]
        },
        {
          "output_type": "stream",
          "name": "stderr",
          "text": [
            "\n"
          ]
        },
        {
          "output_type": "stream",
          "name": "stdout",
          "text": [
            "Inpainting Validation Loss: 0.0011\n"
          ]
        },
        {
          "output_type": "stream",
          "name": "stderr",
          "text": [
            "inpainting Epoch 9/25: 100%|██████████| 1500/1500 [00:16<00:00, 90.58it/s]"
          ]
        },
        {
          "output_type": "stream",
          "name": "stdout",
          "text": [
            "Inpainting Epoch [9/25], Loss: 0.0011\n"
          ]
        },
        {
          "output_type": "stream",
          "name": "stderr",
          "text": [
            "\n"
          ]
        },
        {
          "output_type": "stream",
          "name": "stdout",
          "text": [
            "Inpainting Validation Loss: 0.0010\n"
          ]
        },
        {
          "output_type": "stream",
          "name": "stderr",
          "text": [
            "inpainting Epoch 10/25: 100%|██████████| 1500/1500 [00:16<00:00, 91.70it/s]"
          ]
        },
        {
          "output_type": "stream",
          "name": "stdout",
          "text": [
            "Inpainting Epoch [10/25], Loss: 0.0010\n"
          ]
        },
        {
          "output_type": "stream",
          "name": "stderr",
          "text": [
            "\n"
          ]
        },
        {
          "output_type": "stream",
          "name": "stdout",
          "text": [
            "Inpainting Validation Loss: 0.0010\n"
          ]
        },
        {
          "output_type": "stream",
          "name": "stderr",
          "text": [
            "inpainting Epoch 11/25: 100%|██████████| 1500/1500 [00:16<00:00, 90.03it/s]"
          ]
        },
        {
          "output_type": "stream",
          "name": "stdout",
          "text": [
            "Inpainting Epoch [11/25], Loss: 0.0010\n"
          ]
        },
        {
          "output_type": "stream",
          "name": "stderr",
          "text": [
            "\n"
          ]
        },
        {
          "output_type": "stream",
          "name": "stdout",
          "text": [
            "Inpainting Validation Loss: 0.0010\n"
          ]
        },
        {
          "output_type": "stream",
          "name": "stderr",
          "text": [
            "inpainting Epoch 12/25: 100%|██████████| 1500/1500 [00:16<00:00, 90.85it/s]"
          ]
        },
        {
          "output_type": "stream",
          "name": "stdout",
          "text": [
            "Inpainting Epoch [12/25], Loss: 0.0009\n"
          ]
        },
        {
          "output_type": "stream",
          "name": "stderr",
          "text": [
            "\n"
          ]
        },
        {
          "output_type": "stream",
          "name": "stdout",
          "text": [
            "Inpainting Validation Loss: 0.0010\n"
          ]
        },
        {
          "output_type": "stream",
          "name": "stderr",
          "text": [
            "inpainting Epoch 13/25: 100%|██████████| 1500/1500 [00:16<00:00, 92.62it/s]"
          ]
        },
        {
          "output_type": "stream",
          "name": "stdout",
          "text": [
            "Inpainting Epoch [13/25], Loss: 0.0008\n"
          ]
        },
        {
          "output_type": "stream",
          "name": "stderr",
          "text": [
            "\n"
          ]
        },
        {
          "output_type": "stream",
          "name": "stdout",
          "text": [
            "Inpainting Validation Loss: 0.0009\n"
          ]
        },
        {
          "output_type": "stream",
          "name": "stderr",
          "text": [
            "inpainting Epoch 14/25: 100%|██████████| 1500/1500 [00:16<00:00, 90.66it/s]"
          ]
        },
        {
          "output_type": "stream",
          "name": "stdout",
          "text": [
            "Inpainting Epoch [14/25], Loss: 0.0008\n"
          ]
        },
        {
          "output_type": "stream",
          "name": "stderr",
          "text": [
            "\n"
          ]
        },
        {
          "output_type": "stream",
          "name": "stdout",
          "text": [
            "Inpainting Validation Loss: 0.0009\n"
          ]
        },
        {
          "output_type": "stream",
          "name": "stderr",
          "text": [
            "inpainting Epoch 15/25: 100%|██████████| 1500/1500 [00:16<00:00, 91.78it/s]"
          ]
        },
        {
          "output_type": "stream",
          "name": "stdout",
          "text": [
            "Inpainting Epoch [15/25], Loss: 0.0008\n"
          ]
        },
        {
          "output_type": "stream",
          "name": "stderr",
          "text": [
            "\n"
          ]
        },
        {
          "output_type": "stream",
          "name": "stdout",
          "text": [
            "Inpainting Validation Loss: 0.0009\n"
          ]
        },
        {
          "output_type": "stream",
          "name": "stderr",
          "text": [
            "inpainting Epoch 16/25: 100%|██████████| 1500/1500 [00:16<00:00, 90.56it/s]"
          ]
        },
        {
          "output_type": "stream",
          "name": "stdout",
          "text": [
            "Inpainting Epoch [16/25], Loss: 0.0007\n"
          ]
        },
        {
          "output_type": "stream",
          "name": "stderr",
          "text": [
            "\n"
          ]
        },
        {
          "output_type": "stream",
          "name": "stdout",
          "text": [
            "Inpainting Validation Loss: 0.0009\n"
          ]
        },
        {
          "output_type": "stream",
          "name": "stderr",
          "text": [
            "inpainting Epoch 17/25: 100%|██████████| 1500/1500 [00:16<00:00, 91.05it/s]"
          ]
        },
        {
          "output_type": "stream",
          "name": "stdout",
          "text": [
            "Inpainting Epoch [17/25], Loss: 0.0007\n"
          ]
        },
        {
          "output_type": "stream",
          "name": "stderr",
          "text": [
            "\n"
          ]
        },
        {
          "output_type": "stream",
          "name": "stdout",
          "text": [
            "Inpainting Validation Loss: 0.0009\n"
          ]
        },
        {
          "output_type": "stream",
          "name": "stderr",
          "text": [
            "inpainting Epoch 18/25: 100%|██████████| 1500/1500 [00:16<00:00, 91.16it/s]"
          ]
        },
        {
          "output_type": "stream",
          "name": "stdout",
          "text": [
            "Inpainting Epoch [18/25], Loss: 0.0007\n"
          ]
        },
        {
          "output_type": "stream",
          "name": "stderr",
          "text": [
            "\n"
          ]
        },
        {
          "output_type": "stream",
          "name": "stdout",
          "text": [
            "Inpainting Validation Loss: 0.0009\n"
          ]
        },
        {
          "output_type": "stream",
          "name": "stderr",
          "text": [
            "inpainting Epoch 19/25: 100%|██████████| 1500/1500 [00:16<00:00, 90.67it/s]"
          ]
        },
        {
          "output_type": "stream",
          "name": "stdout",
          "text": [
            "Inpainting Epoch [19/25], Loss: 0.0006\n"
          ]
        },
        {
          "output_type": "stream",
          "name": "stderr",
          "text": [
            "\n"
          ]
        },
        {
          "output_type": "stream",
          "name": "stdout",
          "text": [
            "Inpainting Validation Loss: 0.0009\n"
          ]
        },
        {
          "output_type": "stream",
          "name": "stderr",
          "text": [
            "inpainting Epoch 20/25: 100%|██████████| 1500/1500 [00:16<00:00, 91.93it/s]"
          ]
        },
        {
          "output_type": "stream",
          "name": "stdout",
          "text": [
            "Inpainting Epoch [20/25], Loss: 0.0006\n"
          ]
        },
        {
          "output_type": "stream",
          "name": "stderr",
          "text": [
            "\n"
          ]
        },
        {
          "output_type": "stream",
          "name": "stdout",
          "text": [
            "Inpainting Validation Loss: 0.0009\n"
          ]
        },
        {
          "output_type": "stream",
          "name": "stderr",
          "text": [
            "inpainting Epoch 21/25: 100%|██████████| 1500/1500 [00:16<00:00, 91.16it/s]"
          ]
        },
        {
          "output_type": "stream",
          "name": "stdout",
          "text": [
            "Inpainting Epoch [21/25], Loss: 0.0006\n"
          ]
        },
        {
          "output_type": "stream",
          "name": "stderr",
          "text": [
            "\n"
          ]
        },
        {
          "output_type": "stream",
          "name": "stdout",
          "text": [
            "Inpainting Validation Loss: 0.0009\n"
          ]
        },
        {
          "output_type": "stream",
          "name": "stderr",
          "text": [
            "inpainting Epoch 22/25: 100%|██████████| 1500/1500 [00:16<00:00, 91.35it/s]"
          ]
        },
        {
          "output_type": "stream",
          "name": "stdout",
          "text": [
            "Inpainting Epoch [22/25], Loss: 0.0005\n"
          ]
        },
        {
          "output_type": "stream",
          "name": "stderr",
          "text": [
            "\n"
          ]
        },
        {
          "output_type": "stream",
          "name": "stdout",
          "text": [
            "Inpainting Validation Loss: 0.0009\n"
          ]
        },
        {
          "output_type": "stream",
          "name": "stderr",
          "text": [
            "inpainting Epoch 23/25: 100%|██████████| 1500/1500 [00:16<00:00, 91.35it/s]"
          ]
        },
        {
          "output_type": "stream",
          "name": "stdout",
          "text": [
            "Inpainting Epoch [23/25], Loss: 0.0005\n"
          ]
        },
        {
          "output_type": "stream",
          "name": "stderr",
          "text": [
            "\n"
          ]
        },
        {
          "output_type": "stream",
          "name": "stdout",
          "text": [
            "Inpainting Validation Loss: 0.0009\n"
          ]
        },
        {
          "output_type": "stream",
          "name": "stderr",
          "text": [
            "inpainting Epoch 24/25: 100%|██████████| 1500/1500 [00:16<00:00, 92.68it/s]"
          ]
        },
        {
          "output_type": "stream",
          "name": "stdout",
          "text": [
            "Inpainting Epoch [24/25], Loss: 0.0005\n"
          ]
        },
        {
          "output_type": "stream",
          "name": "stderr",
          "text": [
            "\n"
          ]
        },
        {
          "output_type": "stream",
          "name": "stdout",
          "text": [
            "Inpainting Validation Loss: 0.0009\n"
          ]
        },
        {
          "output_type": "stream",
          "name": "stderr",
          "text": [
            "inpainting Epoch 25/25: 100%|██████████| 1500/1500 [00:16<00:00, 90.79it/s]"
          ]
        },
        {
          "output_type": "stream",
          "name": "stdout",
          "text": [
            "Inpainting Epoch [25/25], Loss: 0.0005\n"
          ]
        },
        {
          "output_type": "stream",
          "name": "stderr",
          "text": [
            "\n"
          ]
        },
        {
          "output_type": "stream",
          "name": "stdout",
          "text": [
            "Inpainting Validation Loss: 0.0009\n",
            "Inpainting model saved locally to /content/trained_models/inpainting_model.pth\n",
            "Inpainting model saved to Google Drive at /content/drive/MyDrive/ImageEnhancement/inpainting_model.pth\n",
            "Model Fine-Tuning Completed Successfully!\n"
          ]
        }
      ]
    },
    {
      "cell_type": "markdown",
      "source": [
        "# Compress Local Models into a Zip File"
      ],
      "metadata": {
        "id": "nF92Ew-uWFqO"
      }
    },
    {
      "cell_type": "code",
      "source": [
        "def zip_models(model_dir, zip_path):\n",
        "    \"\"\"\n",
        "    Compress the trained models into a zip file.\n",
        "\n",
        "    Args:\n",
        "        model_dir (str): Directory containing the trained models.\n",
        "        zip_path (str): Path to save the zip file.\n",
        "    \"\"\"\n",
        "    shutil.make_archive(zip_path.replace('.zip', ''), 'zip', model_dir)\n",
        "    print(f\"Trained models compressed into {zip_path}\")\n",
        "\n",
        "# Define the path for the zip file\n",
        "models_zip_path = '/content/trained_models.zip'\n",
        "\n",
        "print(\"Compressing trained models into a zip file...\")\n",
        "zip_models(model_save_dir_local, models_zip_path)"
      ],
      "metadata": {
        "colab": {
          "base_uri": "https://localhost:8080/"
        },
        "id": "ih4veFUQT1PX",
        "outputId": "0d90336b-1e42-48f1-f77d-70b2711829ed"
      },
      "execution_count": 20,
      "outputs": [
        {
          "output_type": "stream",
          "name": "stdout",
          "text": [
            "Compressing trained models into a zip file...\n",
            "Trained models compressed into /content/trained_models.zip\n"
          ]
        }
      ]
    },
    {
      "cell_type": "markdown",
      "source": [
        "Upload the Zip File to Google Drive"
      ],
      "metadata": {
        "id": "1Mj4FjdCWb-E"
      }
    },
    {
      "cell_type": "code",
      "source": [
        "def upload_zip_to_drive(zip_path, drive_destination_dir):\n",
        "    \"\"\"\n",
        "    Upload the compressed zip file to Google Drive.\n",
        "\n",
        "    Args:\n",
        "        zip_path (str): Path to the zip file.\n",
        "        drive_destination_dir (str): Destination directory in Google Drive.\n",
        "    \"\"\"\n",
        "\n",
        "    # Define the destination path in Google Drive\n",
        "    drive_zip_path = os.path.join(drive_destination_dir, os.path.basename(zip_path))\n",
        "\n",
        "    # Copy the zip file to Google Drive\n",
        "    shutil.copy(zip_path, drive_zip_path)\n",
        "    print(f\"Zip file uploaded to Google Drive at: {drive_zip_path}\")\n",
        "\n",
        "# Define Google Drive destination directory\n",
        "drive_destination_dir_zip = '/content/drive/MyDrive/ImageEnhancement/'\n",
        "os.makedirs(drive_destination_dir_zip, exist_ok=True)\n",
        "\n",
        "print(\"Uploading the zip file to Google Drive...\")\n",
        "upload_zip_to_drive(models_zip_path, drive_destination_dir_zip)\n",
        "\n",
        "print(\"All models saved locally and uploaded to Google Drive successfully!\")"
      ],
      "metadata": {
        "colab": {
          "base_uri": "https://localhost:8080/"
        },
        "id": "6_NCVvHKWbWR",
        "outputId": "b7171a97-eded-44ea-d3fe-f06fc75b8395"
      },
      "execution_count": 21,
      "outputs": [
        {
          "output_type": "stream",
          "name": "stdout",
          "text": [
            "Uploading the zip file to Google Drive...\n",
            "Zip file uploaded to Google Drive at: /content/drive/MyDrive/ImageEnhancement/trained_models.zip\n",
            "All models saved locally and uploaded to Google Drive successfully!\n"
          ]
        }
      ]
    },
    {
      "cell_type": "markdown",
      "source": [
        "# Inference"
      ],
      "metadata": {
        "id": "Ym1OLi_AMK2P"
      }
    },
    {
      "cell_type": "code",
      "source": [
        "def perform_inference(task_name, model, dataloader, num_samples=3):\n",
        "    \"\"\"\n",
        "    Perform inference on sample images and display the results.\n",
        "\n",
        "    Args:\n",
        "        task_name (str): Name of the task.\n",
        "        model (torch.nn.Module): Fine-tuned model.\n",
        "        dataloader (DataLoader): DataLoader for the task.\n",
        "        num_samples (int): Number of samples to perform inference on.\n",
        "    \"\"\"\n",
        "    model.eval()\n",
        "    samples_processed = 0\n",
        "\n",
        "    with torch.no_grad():\n",
        "        for batch in dataloader:\n",
        "            input_imgs, target_imgs = batch\n",
        "            input_imgs = input_imgs.to(device)\n",
        "            target_imgs = target_imgs.to(device)\n",
        "\n",
        "            outputs = model(input_imgs)\n",
        "            outputs = outputs.cpu().numpy()\n",
        "            input_imgs = input_imgs.cpu().numpy()\n",
        "            target_imgs = target_imgs.cpu().numpy()\n",
        "\n",
        "            for i in range(outputs.shape[0]):\n",
        "                if samples_processed >= num_samples:\n",
        "                    return\n",
        "                pred = np.transpose(outputs[i], (1, 2, 0))\n",
        "                input_img = np.transpose(input_imgs[i], (1, 2, 0))\n",
        "                target_img = np.transpose(target_imgs[i], (1, 2, 0))\n",
        "\n",
        "                # Clip values to [0,1] for display\n",
        "                pred = np.clip(pred, 0, 1)\n",
        "                input_img = np.clip(input_img, 0, 1)\n",
        "                target_img = np.clip(target_img, 0, 1)\n",
        "\n",
        "                # Plot the images\n",
        "                fig, axs = plt.subplots(1, 3, figsize=(12, 4))\n",
        "                axs[0].imshow(input_img)\n",
        "                axs[0].set_title('Input')\n",
        "                axs[0].axis('off')\n",
        "\n",
        "                axs[1].imshow(pred)\n",
        "                axs[1].set_title('Output')\n",
        "                axs[1].axis('off')\n",
        "\n",
        "                axs[2].imshow(target_img)\n",
        "                axs[2].set_title('Target')\n",
        "                axs[2].axis('off')\n",
        "\n",
        "                plt.show()\n",
        "                samples_processed += 1"
      ],
      "metadata": {
        "id": "l4Lu8BzPMJGz"
      },
      "execution_count": 22,
      "outputs": []
    },
    {
      "cell_type": "markdown",
      "source": [
        "# Load Trained Models for Inference"
      ],
      "metadata": {
        "id": "eYQMNb03WwkX"
      }
    },
    {
      "cell_type": "code",
      "source": [
        "print(\"Loading Trained Models for Inference\")\n",
        "\n",
        "loaded_models = {}\n",
        "for task in tasks:\n",
        "    model_path = os.path.join(model_save_dir_local, f'{task}_model.pth')\n",
        "    if os.path.exists(model_path):\n",
        "        model = SimpleUNet().to(device)\n",
        "        model.load_state_dict(torch.load(model_path, map_location=device))\n",
        "        model.eval()\n",
        "        loaded_models[task] = model\n",
        "        print(f\"{task.capitalize()} model loaded successfully for inference.\")\n",
        "    else:\n",
        "        print(f\"{task.capitalize()} model not found at {model_path}.\")"
      ],
      "metadata": {
        "colab": {
          "base_uri": "https://localhost:8080/"
        },
        "id": "hinlQer2MOgK",
        "outputId": "b626c57c-25ee-4cee-dd90-b472497976b9"
      },
      "execution_count": 23,
      "outputs": [
        {
          "output_type": "stream",
          "name": "stdout",
          "text": [
            "Loading Trained Models for Inference\n",
            "Denoising model loaded successfully for inference.\n"
          ]
        },
        {
          "output_type": "stream",
          "name": "stderr",
          "text": [
            "<ipython-input-23-20007979be7a>:8: FutureWarning: You are using `torch.load` with `weights_only=False` (the current default value), which uses the default pickle module implicitly. It is possible to construct malicious pickle data which will execute arbitrary code during unpickling (See https://github.com/pytorch/pytorch/blob/main/SECURITY.md#untrusted-models for more details). In a future release, the default value for `weights_only` will be flipped to `True`. This limits the functions that could be executed during unpickling. Arbitrary objects will no longer be allowed to be loaded via this mode unless they are explicitly allowlisted by the user via `torch.serialization.add_safe_globals`. We recommend you start setting `weights_only=True` for any use case where you don't have full control of the loaded file. Please open an issue on GitHub for any issues related to this experimental feature.\n",
            "  model.load_state_dict(torch.load(model_path, map_location=device))\n"
          ]
        },
        {
          "output_type": "stream",
          "name": "stdout",
          "text": [
            "Super_resolution model loaded successfully for inference.\n",
            "Colorization model loaded successfully for inference.\n",
            "Inpainting model loaded successfully for inference.\n"
          ]
        }
      ]
    },
    {
      "cell_type": "markdown",
      "source": [
        "# Perform Inference on Sample Images\n"
      ],
      "metadata": {
        "id": "gVOLjRLmXBn1"
      }
    },
    {
      "cell_type": "code",
      "source": [
        "print(\"Performing Inference on Sample Images\")\n",
        "\n",
        "for task in tasks:\n",
        "    print(f\"\\n--- {task.capitalize()} ---\")\n",
        "    try:\n",
        "        perform_inference(task, loaded_models[task], dataloaders[task]['val'], num_samples=3)\n",
        "    except Exception as e:\n",
        "        print(f\"Error performing inference for {task}: {e}\")\n",
        "\n",
        "print(\"\\nInference Completed Successfully!\")"
      ],
      "metadata": {
        "colab": {
          "base_uri": "https://localhost:8080/",
          "height": 1000
        },
        "id": "NyAu9RJSW3YU",
        "outputId": "4dd69202-149d-4857-c5d4-9d161af42f6c"
      },
      "execution_count": 24,
      "outputs": [
        {
          "output_type": "stream",
          "name": "stdout",
          "text": [
            "Performing Inference on Sample Images\n",
            "\n",
            "--- Denoising ---\n"
          ]
        },
        {
          "output_type": "display_data",
          "data": {
            "text/plain": [
              "<Figure size 1200x400 with 3 Axes>"
            ],
            "image/png": "[encoded data removed]"
          },
          "metadata": {}
        },
        {
          "output_type": "display_data",
          "data": {
            "text/plain": [
              "<Figure size 1200x400 with 3 Axes>"
            ],
            "image/png": "[encoded data removed]"
          },
          "metadata": {}
        },
        {
          "output_type": "display_data",
          "data": {
            "text/plain": [
              "<Figure size 1200x400 with 3 Axes>"
            ],
            "image/png": "[encoded data removed]"
          },
          "metadata": {}
        },
        {
          "output_type": "stream",
          "name": "stdout",
          "text": [
            "\n",
            "--- Super_resolution ---\n"
          ]
        },
        {
          "output_type": "display_data",
          "data": {
            "text/plain": [
              "<Figure size 1200x400 with 3 Axes>"
            ],
            "image/png": "[encoded data removed]"
          },
          "metadata": {}
        },
        {
          "output_type": "display_data",
          "data": {
            "text/plain": [
              "<Figure size 1200x400 with 3 Axes>"
            ],
            "image/png": "[encoded data removed]"
          },
          "metadata": {}
        },
        {
          "output_type": "display_data",
          "data": {
            "text/plain": [
              "<Figure size 1200x400 with 3 Axes>"
            ],
            "image/png": "[encoded data removed]"
          },
          "metadata": {}
        },
        {
          "output_type": "stream",
          "name": "stdout",
          "text": [
            "\n",
            "--- Colorization ---\n"
          ]
        },
        {
          "output_type": "display_data",
          "data": {
            "text/plain": [
              "<Figure size 1200x400 with 3 Axes>"
            ],
            "image/png": "[encoded data removed]"
          },
          "metadata": {}
        },
        {
          "output_type": "display_data",
          "data": {
            "text/plain": [
              "<Figure size 1200x400 with 3 Axes>"
            ],
            "image/png": "[encoded data removed]"
          },
          "metadata": {}
        },
        {
          "output_type": "display_data",
          "data": {
            "text/plain": [
              "<Figure size 1200x400 with 3 Axes>"
            ],
            "image/png": "[encoded data removed]"
          },
          "metadata": {}
        },
        {
          "output_type": "stream",
          "name": "stdout",
          "text": [
            "\n",
            "--- Inpainting ---\n"
          ]
        },
        {
          "output_type": "display_data",
          "data": {
            "text/plain": [
              "<Figure size 1200x400 with 3 Axes>"
            ],
            "image/png": "[encoded data removed]"
          },
          "metadata": {}
        },
        {
          "output_type": "display_data",
          "data": {
            "text/plain": [
              "<Figure size 1200x400 with 3 Axes>"
            ],
            "image/png": "[encoded data removed]"
          },
          "metadata": {}
        },
        {
          "output_type": "display_data",
          "data": {
            "text/plain": [
              "<Figure size 1200x400 with 3 Axes>"
            ],
            "image/png": "[encoded data removed]"
          },
          "metadata": {}
        },
        {
          "output_type": "stream",
          "name": "stdout",
          "text": [
            "\n",
            "Inference Completed Successfully!\n"
          ]
        }
      ]
    },
    {
      "cell_type": "code",
      "source": [],
      "metadata": {
        "id": "xRKRSTxxW32g"
      },
      "execution_count": null,
      "outputs": []
    }
  ]
}