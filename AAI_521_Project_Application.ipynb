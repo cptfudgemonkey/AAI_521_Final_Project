{
  "nbformat": 4,
  "nbformat_minor": 0,
  "metadata": {
    "colab": {
      "provenance": []
    },
    "kernelspec": {
      "name": "python3",
      "display_name": "Python 3"
    },
    "language_info": {
      "name": "python"
    }
  },
  "cells": [
    {
      "cell_type": "code",
      "source": [
        "!pip install torch torchvision opencv-python tqdm scikit-image matplotlib gradio --quiet"
      ],
      "metadata": {
        "id": "4aUF1NP00b7g"
      },
      "execution_count": 1,
      "outputs": []
    },
    {
      "cell_type": "code",
      "execution_count": 2,
      "metadata": {
        "id": "n3qikwEjVu2n"
      },
      "outputs": [],
      "source": [
        "import os\n",
        "import cv2\n",
        "import numpy as np\n",
        "import torch\n",
        "import torch.nn as nn\n",
        "import torch.nn.functional as F\n",
        "from torch.utils.data import Dataset, DataLoader\n",
        "from torchvision import transforms\n",
        "from skimage.metrics import structural_similarity as ssim_metric\n",
        "import matplotlib.pyplot as plt\n",
        "import gradio as gr\n",
        "import shutil\n",
        "from zipfile import ZipFile"
      ]
    },
    {
      "cell_type": "code",
      "source": [
        "device = torch.device('cuda' if torch.cuda.is_available() else 'cpu')\n",
        "print(f\"Using device: {device}\")"
      ],
      "metadata": {
        "colab": {
          "base_uri": "https://localhost:8080/"
        },
        "id": "hCrX3xc20d4-",
        "outputId": "47ab0089-ab15-41ab-ef0f-614bfc56b8af"
      },
      "execution_count": 3,
      "outputs": [
        {
          "output_type": "stream",
          "name": "stdout",
          "text": [
            "Using device: cpu\n"
          ]
        }
      ]
    },
    {
      "cell_type": "code",
      "source": [
        "!gdown 1-XVnUaJBYYcH8nGQ-FA4Cg8NXo0yxTUe"
      ],
      "metadata": {
        "colab": {
          "base_uri": "https://localhost:8080/"
        },
        "id": "LM6dUyrd0gAb",
        "outputId": "f6a93ea0-5600-4c12-d2e5-65ad05a782e1"
      },
      "execution_count": 4,
      "outputs": [
        {
          "output_type": "stream",
          "name": "stdout",
          "text": [
            "Downloading...\n",
            "From (original): https://drive.google.com/uc?id=1-XVnUaJBYYcH8nGQ-FA4Cg8NXo0yxTUe\n",
            "From (redirected): https://drive.google.com/uc?id=1-XVnUaJBYYcH8nGQ-FA4Cg8NXo0yxTUe&confirm=t&uuid=dd17c102-b703-4eda-9d85-b0b82a0b8471\n",
            "To: /content/trained_models.zip\n",
            "100% 114M/114M [00:00<00:00, 119MB/s]\n"
          ]
        }
      ]
    },
    {
      "cell_type": "code",
      "source": [
        "!unzip /content/trained_models.zip -d /content/trained_models\n",
        "\n",
        "# Model Path\n",
        "model_save_dir_local = '/content/trained_models'"
      ],
      "metadata": {
        "colab": {
          "base_uri": "https://localhost:8080/"
        },
        "id": "xXYFCB8f3CjT",
        "outputId": "2ea17b6e-f338-4f68-fd5d-5b12ff9f99e4"
      },
      "execution_count": 5,
      "outputs": [
        {
          "output_type": "stream",
          "name": "stdout",
          "text": [
            "Archive:  /content/trained_models.zip\n",
            "replace /content/trained_models/colorization_model.pth? [y]es, [n]o, [A]ll, [N]one, [r]ename: "
          ]
        }
      ]
    },
    {
      "cell_type": "markdown",
      "source": [
        "Define U-Net Architecture"
      ],
      "metadata": {
        "id": "ohV0Mxyz3hJs"
      }
    },
    {
      "cell_type": "code",
      "source": [
        "class SimpleUNet(nn.Module):\n",
        "    def __init__(self, in_channels=3, out_channels=3, features=[64, 128, 256]):\n",
        "        super(SimpleUNet, self).__init__()\n",
        "        self.encoder = nn.ModuleList()\n",
        "        self.decoder = nn.ModuleList()\n",
        "        self.pool = nn.MaxPool2d(kernel_size=2, stride=2)\n",
        "\n",
        "        # Encoder\n",
        "        for feature in features:\n",
        "            self.encoder.append(self.conv_block(in_channels, feature))\n",
        "            in_channels = feature\n",
        "\n",
        "        # Bottleneck\n",
        "        self.bottleneck = self.conv_block(features[-1], features[-1]*2)\n",
        "\n",
        "        # Decoder\n",
        "        reversed_features = features[::-1]\n",
        "        decoder_features = features[-1]*2  # Start with bottleneck channels\n",
        "\n",
        "        for feature in reversed_features:\n",
        "            self.decoder.append(nn.ConvTranspose2d(decoder_features, feature, kernel_size=2, stride=2))\n",
        "            self.decoder.append(self.conv_block(decoder_features, feature))\n",
        "            decoder_features = feature  # Update for next layer\n",
        "\n",
        "        # Final Convolution\n",
        "        self.final_conv = nn.Conv2d(features[0], out_channels, kernel_size=1)\n",
        "\n",
        "    def forward(self, x):\n",
        "        skip_connections = []\n",
        "\n",
        "        # Encoder\n",
        "        for layer in self.encoder:\n",
        "            x = layer(x)\n",
        "            skip_connections.append(x)\n",
        "            x = self.pool(x)\n",
        "\n",
        "        # Bottleneck\n",
        "        x = self.bottleneck(x)\n",
        "\n",
        "        # Decoder\n",
        "        skip_connections = skip_connections[::-1]\n",
        "        for idx in range(0, len(self.decoder), 2):\n",
        "            x = self.decoder[idx](x)\n",
        "            skip_connection = skip_connections[idx//2]\n",
        "            if x.shape != skip_connection.shape:\n",
        "                x = F.interpolate(x, size=skip_connection.shape[2:])\n",
        "            concat_skip = torch.cat((skip_connection, x), dim=1)\n",
        "            x = self.decoder[idx+1](concat_skip)\n",
        "\n",
        "        return self.final_conv(x)\n",
        "\n",
        "    def conv_block(self, in_channels, out_channels):\n",
        "        return nn.Sequential(\n",
        "            nn.Conv2d(in_channels, out_channels, kernel_size=3, padding=1, bias=False),\n",
        "            nn.BatchNorm2d(out_channels),\n",
        "            nn.ReLU(inplace=True),\n",
        "            nn.Conv2d(out_channels, out_channels, kernel_size=3, padding=1, bias=False),\n",
        "            nn.BatchNorm2d(out_channels),\n",
        "            nn.ReLU(inplace=True)\n",
        "        )"
      ],
      "metadata": {
        "id": "vttlb3043dgQ"
      },
      "execution_count": 6,
      "outputs": []
    },
    {
      "cell_type": "markdown",
      "source": [
        "Load the Fine-Tuned Models"
      ],
      "metadata": {
        "id": "uaFO9qsd3lIr"
      }
    },
    {
      "cell_type": "code",
      "source": [
        "tasks = ['denoising', 'super_resolution', 'colorization', 'inpainting']\n",
        "models = {}\n",
        "\n",
        "def load_finetuned_model(task, model_class, model_path):\n",
        "    \"\"\"Load a fine-tuned model from the specified path.\"\"\"\n",
        "    model = model_class()\n",
        "    model.load_state_dict(torch.load(model_path, map_location=device))\n",
        "    model = model.to(device)\n",
        "    model.eval()\n",
        "    return model\n",
        "\n",
        "for task in tasks:\n",
        "    model_path = os.path.join(model_save_dir_local, f'{task}_model.pth')\n",
        "    if os.path.exists(model_path):\n",
        "        models[task] = load_finetuned_model(task, SimpleUNet, model_path)\n",
        "        print(f\"{task.capitalize()} model loaded successfully.\")\n",
        "    else:\n",
        "        print(f\"{task.capitalize()} model not found at {model_path}. Please ensure {task}_model.pth is in models.zip.\")\n",
        "        models[task] = None"
      ],
      "metadata": {
        "colab": {
          "base_uri": "https://localhost:8080/"
        },
        "id": "OiB5pDlr3jtD",
        "outputId": "564982d1-3c0f-4094-9ea9-8d4953c8415c"
      },
      "execution_count": 7,
      "outputs": [
        {
          "output_type": "stream",
          "name": "stderr",
          "text": [
            "<ipython-input-7-345572b0a62f>:7: FutureWarning: You are using `torch.load` with `weights_only=False` (the current default value), which uses the default pickle module implicitly. It is possible to construct malicious pickle data which will execute arbitrary code during unpickling (See https://github.com/pytorch/pytorch/blob/main/SECURITY.md#untrusted-models for more details). In a future release, the default value for `weights_only` will be flipped to `True`. This limits the functions that could be executed during unpickling. Arbitrary objects will no longer be allowed to be loaded via this mode unless they are explicitly allowlisted by the user via `torch.serialization.add_safe_globals`. We recommend you start setting `weights_only=True` for any use case where you don't have full control of the loaded file. Please open an issue on GitHub for any issues related to this experimental feature.\n",
            "  model.load_state_dict(torch.load(model_path, map_location=device))\n"
          ]
        },
        {
          "output_type": "stream",
          "name": "stdout",
          "text": [
            "Denoising model loaded successfully.\n",
            "Super_resolution model loaded successfully.\n",
            "Colorization model loaded successfully.\n",
            "Inpainting model loaded successfully.\n"
          ]
        }
      ]
    },
    {
      "cell_type": "markdown",
      "source": [
        "Define Inference Functions"
      ],
      "metadata": {
        "id": "PHUpUAHK32nn"
      }
    },
    {
      "cell_type": "code",
      "source": [
        "transform_inference = transforms.Compose([\n",
        "    transforms.ToPILImage(),\n",
        "    transforms.Resize((32, 32)),  # CIFAR-100 size; adjust if different\n",
        "    transforms.ToTensor()\n",
        "])\n",
        "\n",
        "def run_inference(model, input_image):\n",
        "    \"\"\"\n",
        "    Run inference on a single input image using the specified model.\n",
        "    Returns the predicted output image as a numpy array [0,1].\n",
        "    \"\"\"\n",
        "    input_tensor = transform_inference(input_image).unsqueeze(0).to(device) # (1,3,32,32)\n",
        "    with torch.no_grad():\n",
        "        output = model(input_tensor)  # (1,3,32,32)\n",
        "    output = output.squeeze(0).cpu().numpy()  # (3,32,32)\n",
        "    output = np.transpose(output, (1, 2, 0))  # HWC\n",
        "    output = np.clip(output, 0, 1)\n",
        "    return output\n",
        "\n",
        "def inference_interface(task, input_image):\n",
        "    \"\"\"\n",
        "    Given the task name and user-uploaded image, run inference using the corresponding model.\n",
        "    Tasks: 'Denoising', 'Super-Resolution', 'Colorization', 'Inpainting'\n",
        "    \"\"\"\n",
        "    task_key = task.lower().replace('-', '_')\n",
        "    if task_key not in models or models[task_key] is None:\n",
        "        raise ValueError(f\"Model for {task} not available. Please ensure the model is loaded correctly.\")\n",
        "    model = models[task_key]\n",
        "    output_image = run_inference(model, input_image)\n",
        "    return output_image"
      ],
      "metadata": {
        "id": "XjHUsLi83qJl"
      },
      "execution_count": 8,
      "outputs": []
    },
    {
      "cell_type": "markdown",
      "source": [
        "Set up Gradio Interface"
      ],
      "metadata": {
        "id": "5FaD0YEk36lz"
      }
    },
    {
      "cell_type": "code",
      "source": [
        "def create_gradio_interface():\n",
        "    with gr.Blocks() as demo:\n",
        "        gr.Markdown(\"# 🖼️ Image Enhancement App\")\n",
        "        gr.Markdown(\"Select an enhancement task, upload an image, and see the enhanced result.\")\n",
        "\n",
        "        with gr.Row():\n",
        "            task = gr.Dropdown(\n",
        "                choices=[\"Denoising\", \"Super-Resolution\", \"Colorization\", \"Inpainting\"],\n",
        "                label=\"Select Enhancement Task\",\n",
        "                value=\"Denoising\"\n",
        "            )\n",
        "            image = gr.Image(type=\"numpy\", label=\"Upload an Image\")\n",
        "\n",
        "        enhanced_image = gr.Image(type=\"numpy\", label=\"Enhanced Image\")\n",
        "\n",
        "        run_button = gr.Button(\"Enhance Image\")\n",
        "\n",
        "        run_button.click(\n",
        "            fn=inference_interface,\n",
        "            inputs=[task, image],\n",
        "            outputs=[enhanced_image]\n",
        "        )\n",
        "\n",
        "    return demo"
      ],
      "metadata": {
        "id": "BnQbIxZo35Au"
      },
      "execution_count": 9,
      "outputs": []
    },
    {
      "cell_type": "markdown",
      "source": [
        "Launch Gradio Interface"
      ],
      "metadata": {
        "id": "SDOKINZf4Dh9"
      }
    },
    {
      "cell_type": "code",
      "source": [
        "demo = create_gradio_interface()\n",
        "demo.launch(debug=True)"
      ],
      "metadata": {
        "colab": {
          "base_uri": "https://localhost:8080/",
          "height": 680
        },
        "id": "WyLUqvvB39vv",
        "outputId": "89fea077-8a9c-40be-e458-d81e9ea6e910"
      },
      "execution_count": 10,
      "outputs": [
        {
          "output_type": "stream",
          "name": "stdout",
          "text": [
            "Running Gradio in a Colab notebook requires sharing enabled. Automatically setting `share=True` (you can turn this off by setting `share=False` in `launch()` explicitly).\n",
            "\n",
            "Colab notebook detected. This cell will run indefinitely so that you can see errors and logs. To turn off, set debug=False in launch().\n",
            "* Running on public URL: https://2bde59bed12518621e.gradio.live\n",
            "\n",
            "This share link expires in 72 hours. For free permanent hosting and GPU upgrades, run `gradio deploy` from the terminal in the working directory to deploy to Hugging Face Spaces (https://huggingface.co/spaces)\n"
          ]
        },
        {
          "output_type": "display_data",
          "data": {
            "text/plain": [
              "<IPython.core.display.HTML object>"
            ],
            "text/html": [
              "<div><iframe src=\"https://2bde59bed12518621e.gradio.live\" width=\"100%\" height=\"500\" allow=\"autoplay; camera; microphone; clipboard-read; clipboard-write;\" frameborder=\"0\" allowfullscreen></iframe></div>"
            ]
          },
          "metadata": {}
        },
        {
          "output_type": "stream",
          "name": "stdout",
          "text": [
            "Keyboard interruption in main thread... closing server.\n",
            "Killing tunnel 127.0.0.1:7860 <> https://2bde59bed12518621e.gradio.live\n"
          ]
        },
        {
          "output_type": "execute_result",
          "data": {
            "text/plain": []
          },
          "metadata": {},
          "execution_count": 10
        }
      ]
    },
    {
      "cell_type": "code",
      "source": [],
      "metadata": {
        "id": "M5JAIu7hBqm6"
      },
      "execution_count": 10,
      "outputs": []
    }
  ]
}